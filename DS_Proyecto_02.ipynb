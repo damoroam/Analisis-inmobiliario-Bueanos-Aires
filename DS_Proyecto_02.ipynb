{
 "cells": [
  {
   "cell_type": "markdown",
   "id": "ed644b5c",
   "metadata": {
    "tags": []
   },
   "source": [
    "# Proyecto: Análisis de mercado inmobiliario\n",
    "<font size=\"+2\">\n",
    "    Desarrollado por David Mora <br>\n",
    "    Segundo avance \n",
    "</font>"
   ]
  },
  {
   "cell_type": "markdown",
   "id": "95c68a0c",
   "metadata": {
    "tags": [],
    "toc-hr-collapsed": true
   },
   "source": [
    "<font size=\"+1\">Consigna</font><br>\n",
    "En este proyecto profundizarás lo desarrollado en el proyecto 01 (“Primer modelo de Machine Learning”). El objetivo es aplicar las técnicas incorporadas (Transformación de Datos, Optimización de Hiperparámetros, Modelos Avanzados, etc.) para generar un modelo que tenga un mejor desempeño que el modelo generado en el proyecto anterior. Luego, interpreta ese modelo para responder la siguiente pregunta: ¿qué podemos aprender de nuestro problema estudiando el modelo que generamos?"
   ]
  },
  {
   "cell_type": "markdown",
   "id": "6ab58c84",
   "metadata": {},
   "source": [
    "Iniciare importando las bibliotecas que necesitaré y cargando el dataset de la primer entrega"
   ]
  },
  {
   "cell_type": "code",
   "execution_count": 86,
   "id": "79adda26",
   "metadata": {},
   "outputs": [],
   "source": [
    "import pandas as pd\n",
    "import matplotlib.pyplot as plt\n",
    "import seaborn as sns\n",
    "import numpy as np\n",
    "import time\n",
    "import sklearn.metrics as metrics\n",
    "from sklearn.model_selection import train_test_split\n",
    "from sklearn.linear_model import LinearRegression\n",
    "from sklearn.tree import DecisionTreeRegressor\n",
    "from sklearn.neighbors import KNeighborsRegressor\n",
    "\n",
    "path='./DS_Proyecto_01_Datos_Properati.csv'\n",
    "df_properati=pd.read_csv(path)"
   ]
  },
  {
   "cell_type": "markdown",
   "id": "09e3f45a-1c34-4262-8c02-acd47c31e927",
   "metadata": {},
   "source": [
    "La siguiente celda hace que los dataframes de pandas se muestren solo con tres cifras decimales."
   ]
  },
  {
   "cell_type": "code",
   "execution_count": 87,
   "id": "7379f673-bc4d-460e-9fb2-5b0cf802e9f5",
   "metadata": {},
   "outputs": [],
   "source": [
    "pd.options.display.float_format = \"{:,.3f}\".format"
   ]
  },
  {
   "cell_type": "code",
   "execution_count": 88,
   "id": "3947068f-0f20-4a76-9562-b996a3c5ae60",
   "metadata": {},
   "outputs": [
    {
     "data": {
      "text/html": [
       "<div>\n",
       "<style scoped>\n",
       "    .dataframe tbody tr th:only-of-type {\n",
       "        vertical-align: middle;\n",
       "    }\n",
       "\n",
       "    .dataframe tbody tr th {\n",
       "        vertical-align: top;\n",
       "    }\n",
       "\n",
       "    .dataframe thead th {\n",
       "        text-align: right;\n",
       "    }\n",
       "</style>\n",
       "<table border=\"1\" class=\"dataframe\">\n",
       "  <thead>\n",
       "    <tr style=\"text-align: right;\">\n",
       "      <th></th>\n",
       "      <th>start_date</th>\n",
       "      <th>end_date</th>\n",
       "      <th>created_on</th>\n",
       "      <th>lat</th>\n",
       "      <th>lon</th>\n",
       "      <th>l1</th>\n",
       "      <th>l2</th>\n",
       "      <th>l3</th>\n",
       "      <th>rooms</th>\n",
       "      <th>bedrooms</th>\n",
       "      <th>bathrooms</th>\n",
       "      <th>surface_total</th>\n",
       "      <th>surface_covered</th>\n",
       "      <th>price</th>\n",
       "      <th>currency</th>\n",
       "      <th>title</th>\n",
       "      <th>description</th>\n",
       "      <th>property_type</th>\n",
       "      <th>operation_type</th>\n",
       "    </tr>\n",
       "  </thead>\n",
       "  <tbody>\n",
       "    <tr>\n",
       "      <th>0</th>\n",
       "      <td>2019-10-17</td>\n",
       "      <td>2019-12-23</td>\n",
       "      <td>2019-10-17</td>\n",
       "      <td>-34.606</td>\n",
       "      <td>-58.385</td>\n",
       "      <td>Argentina</td>\n",
       "      <td>Capital Federal</td>\n",
       "      <td>San Cristobal</td>\n",
       "      <td>7.000</td>\n",
       "      <td>7.000</td>\n",
       "      <td>2.000</td>\n",
       "      <td>140.000</td>\n",
       "      <td>140.000</td>\n",
       "      <td>153,000.000</td>\n",
       "      <td>USD</td>\n",
       "      <td>***Venta semipiso centro, ideal hostel*****</td>\n",
       "      <td>DESCRIPCION DE LA PROPIEDAD: Departamento de 1...</td>\n",
       "      <td>Departamento</td>\n",
       "      <td>Venta</td>\n",
       "    </tr>\n",
       "  </tbody>\n",
       "</table>\n",
       "</div>"
      ],
      "text/plain": [
       "   start_date    end_date  created_on     lat     lon         l1  \\\n",
       "0  2019-10-17  2019-12-23  2019-10-17 -34.606 -58.385  Argentina   \n",
       "\n",
       "                l2             l3  rooms  bedrooms  bathrooms  surface_total  \\\n",
       "0  Capital Federal  San Cristobal  7.000     7.000      2.000        140.000   \n",
       "\n",
       "   surface_covered       price currency  \\\n",
       "0          140.000 153,000.000      USD   \n",
       "\n",
       "                                         title  \\\n",
       "0  ***Venta semipiso centro, ideal hostel*****   \n",
       "\n",
       "                                         description property_type  \\\n",
       "0  DESCRIPCION DE LA PROPIEDAD: Departamento de 1...  Departamento   \n",
       "\n",
       "  operation_type  \n",
       "0          Venta  "
      ]
     },
     "execution_count": 88,
     "metadata": {},
     "output_type": "execute_result"
    }
   ],
   "source": [
    "df_properati.head(1)\n",
    "#len(df_properati)"
   ]
  },
  {
   "cell_type": "markdown",
   "id": "5f3371d4-a385-4de1-be55-09aa009e98a4",
   "metadata": {},
   "source": [
    "Ahora hare una revision de la cantidad de NaN por filas y por columnas. Lo hare mediante una funcion para poder comparar la cantidad de NaN que hay pendiendo de los cambios que se hagan al data frame."
   ]
  },
  {
   "cell_type": "code",
   "execution_count": 192,
   "id": "8e953bbf-6ff9-4558-a978-76e2c58e4d56",
   "metadata": {},
   "outputs": [],
   "source": [
    "def dfnans (df,imprimir='y'):\n",
    "    \n",
    "    #Conteto total de nan\n",
    "    total=df.isnull().sum().sum()\n",
    "    print ('El total de NaN en el dataframe es', total, 'corresponde al ',round(total*100/(19*len(df)),3),'% del total de los datos')\n",
    "    \n",
    "    #Seccion de conteo por columnas\n",
    "    nan_col=df.isnull().sum().reset_index(name='Conteo por columnas')\n",
    "    nan_col.rename(columns={'index': 'Atributo'}, inplace=True)\n",
    "    nan_col.set_index('Atributo', inplace=True)\n",
    "    nan_col['%']=(nan_col['Conteo por columnas']*100/len(df)).apply(lambda x:round(x,3))\n",
    "    nan_col.append(nan_col.sum().rename('Total'))\n",
    "    \n",
    "    #seccion de conteo por filas\n",
    "    nan_row=df.isnull().sum(axis=1).to_frame()\n",
    "    nan_row['Conteo']=1\n",
    "    nan_row.rename(columns={0: 'Numero de NaN en fila'}, inplace=True)\n",
    "    count_nan_col=nan_row.groupby('Numero de NaN en fila').sum()\n",
    "    count_nan_col['%']=(count_nan_col['Conteo']*100/len(df)).apply(lambda x:round(x,3))\n",
    "    count_nan_col.append(count_nan_col.sum().rename('Total'), ignore_index=True)\n",
    "    \n",
    "    #Codigo para seleccionar si queremos que se impriman los resultados automaticamente, por defecto se imprimen, para no \n",
    "    #imprimir se debe colocar cualquier caracter\n",
    "    if imprimir=='y' or imprimir=='Y':\n",
    "        print(nan_col)\n",
    "        print(count_nan_col)\n",
    "    \n",
    "    return total, nan_col, count_nan_col"
   ]
  },
  {
   "cell_type": "code",
   "execution_count": 193,
   "id": "6e460207-3870-4f5c-9508-251da260c568",
   "metadata": {},
   "outputs": [
    {
     "name": "stdout",
     "output_type": "stream",
     "text": [
      "El total de NaN en el dataframe es 67982 corresponde al  2.44 % del total de los datos\n",
      "                 Conteo por columnas      %\n",
      "Atributo                                   \n",
      "start_date                         0  0.000\n",
      "end_date                           0  0.000\n",
      "created_on                         0  0.000\n",
      "lat                             9925  6.767\n",
      "lon                             9959  6.791\n",
      "l1                                 0  0.000\n",
      "l2                                 0  0.000\n",
      "l3                                 0  0.000\n",
      "rooms                              0  0.000\n",
      "bedrooms                           0  0.000\n",
      "bathrooms                       5957  4.062\n",
      "surface_total                  20527 13.996\n",
      "surface_covered                21614 14.737\n",
      "price                              0  0.000\n",
      "currency                           0  0.000\n",
      "title                              0  0.000\n",
      "description                        0  0.000\n",
      "property_type                      0  0.000\n",
      "operation_type                     0  0.000\n",
      "                       Conteo      %\n",
      "Numero de NaN en fila               \n",
      "0                      114488 78.064\n",
      "1                        3269  2.229\n",
      "2                       23801 16.229\n",
      "3                        3717  2.534\n",
      "4                         965  0.658\n",
      "5                         420  0.286\n"
     ]
    }
   ],
   "source": [
    "dfnans(df_properati);"
   ]
  },
  {
   "cell_type": "code",
   "execution_count": 91,
   "id": "2c8c7010-3135-4abd-8e8b-c6744d4f6379",
   "metadata": {},
   "outputs": [
    {
     "name": "stdout",
     "output_type": "stream",
     "text": [
      "92539\n",
      "17173\n",
      "24282\n",
      "12666\n"
     ]
    }
   ],
   "source": [
    "print(len(df_properati[df_properati.l2=='Capital Federal']))\n",
    "print(len(df_properati[df_properati.l2=='Bs.As. G.B.A. Zona Sur']))\n",
    "print(len(df_properati[df_properati.l2=='Bs.As. G.B.A. Zona Norte']))\n",
    "print(len(df_properati[df_properati.l2=='Bs.As. G.B.A. Zona Oeste']))"
   ]
  },
  {
   "cell_type": "markdown",
   "id": "870b6e7b-5e59-4754-b931-8ed1b16345ed",
   "metadata": {},
   "source": [
    "No se ultilizara el data frame con el filtrado propuesto para la parte tres de la primera entrega, considerare otros filtros para esta segunda entrega (los mas importantes los definire para la deteccion y eliminacion de outliers). Por ahora se limitara el data frame y en consecuencia los modelos del estudio solo a las inmuebles del tipo departemaneto, PH y casa. De todas las columnas del dataframe original descartaré las columnas start_date, end_date, created_on, l1, currency, title, descripcion, operation_type.\n",
    "\n",
    "Justificar por que eliminar esas columnas...\n",
    "\n",
    "A diferencia del filtrado para la parte final de la primera entrega en la que se trabajó solo con inmuebles de capital federal, en este caso trabajare con inmbuebles en todas las zonas de Buenos Aires, incluidas las zonas sur, norte y oeste. Esto hara que tengamos un dataframe mas grande pero del que podremos inferir precios de inmuebles de mas barrios.  "
   ]
  },
  {
   "cell_type": "code",
   "execution_count": 92,
   "id": "8b72e052-df68-4421-9a38-8cdae6d2e7c8",
   "metadata": {},
   "outputs": [
    {
     "data": {
      "text/html": [
       "<div>\n",
       "<style scoped>\n",
       "    .dataframe tbody tr th:only-of-type {\n",
       "        vertical-align: middle;\n",
       "    }\n",
       "\n",
       "    .dataframe tbody tr th {\n",
       "        vertical-align: top;\n",
       "    }\n",
       "\n",
       "    .dataframe thead th {\n",
       "        text-align: right;\n",
       "    }\n",
       "</style>\n",
       "<table border=\"1\" class=\"dataframe\">\n",
       "  <thead>\n",
       "    <tr style=\"text-align: right;\">\n",
       "      <th></th>\n",
       "      <th>lat</th>\n",
       "      <th>lon</th>\n",
       "      <th>l2</th>\n",
       "      <th>l3</th>\n",
       "      <th>rooms</th>\n",
       "      <th>bedrooms</th>\n",
       "      <th>bathrooms</th>\n",
       "      <th>surface_total</th>\n",
       "      <th>surface_covered</th>\n",
       "      <th>price</th>\n",
       "      <th>property_type</th>\n",
       "    </tr>\n",
       "  </thead>\n",
       "  <tbody>\n",
       "    <tr>\n",
       "      <th>0</th>\n",
       "      <td>-34.606</td>\n",
       "      <td>-58.385</td>\n",
       "      <td>Capital Federal</td>\n",
       "      <td>San Cristobal</td>\n",
       "      <td>7.000</td>\n",
       "      <td>7.000</td>\n",
       "      <td>2.000</td>\n",
       "      <td>140.000</td>\n",
       "      <td>140.000</td>\n",
       "      <td>153,000.000</td>\n",
       "      <td>Departamento</td>\n",
       "    </tr>\n",
       "  </tbody>\n",
       "</table>\n",
       "</div>"
      ],
      "text/plain": [
       "      lat     lon               l2             l3  rooms  bedrooms  bathrooms  \\\n",
       "0 -34.606 -58.385  Capital Federal  San Cristobal  7.000     7.000      2.000   \n",
       "\n",
       "   surface_total  surface_covered       price property_type  \n",
       "0        140.000          140.000 153,000.000  Departamento  "
      ]
     },
     "execution_count": 92,
     "metadata": {},
     "output_type": "execute_result"
    }
   ],
   "source": [
    "#Seleccion de propiedades en Capital Federal y cuyo tipo de propiedad es Departamento, PH o Casa.\n",
    "#df=df_properati[(df_properati['l2']=='Bs.As. G.B.A. Zona Norte') & ((df_properati['property_type']=='Departamento') | (df_properati['property_type']=='Casa') | (df_properati['property_type']=='PH'))]\n",
    "df=df_properati[(df_properati['property_type']=='Departamento') | (df_properati['property_type']=='Casa') | (df_properati['property_type']=='PH')]\n",
    "\n",
    "#Se descartan las columnas start_date, end_date, created_on, l1, currency, title, descripcion, operation_type\n",
    "df=df.drop(columns=['start_date', 'end_date', 'created_on', 'l1', 'currency', 'title', 'description', 'operation_type'])\n",
    "\n",
    "#Se eliminaran las instancias que tengan surface_covered mayor a surface_total\n",
    "df=df.drop(df[df.surface_covered > df.surface_total].index)\n",
    "\n",
    "#Se eliminaran las instancias que tengan superficie total o cubierta menor a 15\n",
    "df=df.drop(df[(df.surface_total<=15) | (df.surface_covered<=15)].index)\n",
    "\n",
    "df.reset_index(drop=True, inplace=True)\n",
    "df.head(1)"
   ]
  },
  {
   "cell_type": "code",
   "execution_count": 93,
   "id": "a11329d4-e000-4e83-b4ff-5fe666197598",
   "metadata": {},
   "outputs": [
    {
     "name": "stdout",
     "output_type": "stream",
     "text": [
      "El tamaño del dataframe en este momento es de 141547 filas y 11 columnas.\n"
     ]
    }
   ],
   "source": [
    "print('El tamaño del dataframe en este momento es de {} filas y {} columnas.'.format(df.shape[0],df.shape[1]))"
   ]
  },
  {
   "cell_type": "markdown",
   "id": "2eb39edf",
   "metadata": {
    "tags": []
   },
   "source": [
    "## PARTE A - Transformación de Datos\n",
    "\n",
    "Elige cuáles de las siguientes tareas son apropiadas para su dataset. Implementa las transformaciones que elegiste. Es importante que justifiques por qué las haces:\n",
    "\n",
    "- Detección y eliminación de Outliers\n",
    "- Encoding\n",
    "- Imputación de valores faltantes\n",
    "- Escalado de datos\n",
    "- Generación de nuevas variables predictoras/reducción de dimensionalidad (SVD/PCA).\n",
    "\n",
    "Vuelve a entrenar el modelo implementado en la Entrega 01 - en particular, el árbol de decisión - con este nuevo dataset transformado. Evalúa su desempeño a partir del dataset obtenido luego de transformar los datos. ¿Hay una mejora en su desempeño? Compara con el desempeño obtenido en el proyecto 01. Sea cual sea la respuesta, intenta explicar a qué se debe.\n",
    "\n",
    "NOTA: en la Parte A debes implementar al menos tres de las transformaciones de datos propuestas"
   ]
  },
  {
   "cell_type": "markdown",
   "id": "e0eca907",
   "metadata": {},
   "source": [
    "Deteccion y eliminacion de Outliers\n",
    "\n",
    "Encoding\n",
    "\n",
    "Imputacion\n",
    "\n",
    "Escalado\n",
    "\n",
    "Generación de nuevas variables / reducción de dimensionalidad"
   ]
  },
  {
   "cell_type": "markdown",
   "id": "c795d01b-65b4-4985-a90c-074c9af32fc1",
   "metadata": {
    "tags": [],
    "toc-hr-collapsed": true
   },
   "source": [
    "### Deteccion y eliminación de outliers\n",
    "Durante la primera entrega ya se habia trabajado con la deteccion y eliminacion de outliers, sin este proceso era imposible obtener los histogramas de forma entendible. En este caso, ya que posteriormente se va a aplicar encoding al atributo de property_type, hare deteccion y eliminacion de outliers segregando el tipo de propiedad departamento, casa y PH."
   ]
  },
  {
   "cell_type": "markdown",
   "id": "c1ef8036-524a-42a6-bc1d-e3f8704f5278",
   "metadata": {},
   "source": [
    "En la siguiete celda se uso la funcion describe para definir una funcion que calcula el rango intercuertilico (RIC), limite inferior (lim_inf) y limite superior (lim_sup) de cada atributo y lo devuelve en un dataframe."
   ]
  },
  {
   "cell_type": "code",
   "execution_count": 94,
   "id": "f25faf66-0710-4d86-8f83-c5df53aac5ba",
   "metadata": {},
   "outputs": [],
   "source": [
    "#los argumentos son df: dataframe al que se le aplica la fucncion.\n",
    "def RICdescribe(df):\n",
    "    df_describe=df.describe().T\n",
    "    df_describe['RIC']=df_describe['75%']-df_describe['25%']\n",
    "    df_describe['lim_inf']=df_describe['25%']-1.5*df_describe['RIC']\n",
    "    df_describe['lim_sup']=df_describe['75%']+1.5*df_describe['RIC']\n",
    "    return df_describe.T"
   ]
  },
  {
   "cell_type": "markdown",
   "id": "d3594526-3f2d-434f-b560-7ce2bd3c389d",
   "metadata": {
    "tags": []
   },
   "source": [
    "A continuacion creare una funcion que cambia los valores atipicos por NaN"
   ]
  },
  {
   "cell_type": "code",
   "execution_count": 95,
   "id": "3eca5754-67c7-4d11-9496-5573b861a2e3",
   "metadata": {
    "tags": []
   },
   "outputs": [],
   "source": [
    "def NaN_outliers(df, RICdesc):\n",
    "    dff=df.copy() #se crea una copia del dataframe argumento\n",
    "    for i in RICdesc.columns:\n",
    "        dff[i].where((dff[i] > RICdesc.loc['lim_inf'][i]) & (dff[i] < RICdesc.loc['lim_sup'][i]), inplace=True)\n",
    "    return dff"
   ]
  },
  {
   "cell_type": "markdown",
   "id": "0a0e0781-e761-48ca-8dbc-a9e8b5c3ff70",
   "metadata": {
    "tags": []
   },
   "source": [
    "#### Outliers en general"
   ]
  },
  {
   "cell_type": "code",
   "execution_count": 96,
   "id": "688b83b3-c871-442a-8805-045277693d3a",
   "metadata": {
    "tags": []
   },
   "outputs": [
    {
     "data": {
      "text/html": [
       "<div>\n",
       "<style scoped>\n",
       "    .dataframe tbody tr th:only-of-type {\n",
       "        vertical-align: middle;\n",
       "    }\n",
       "\n",
       "    .dataframe tbody tr th {\n",
       "        vertical-align: top;\n",
       "    }\n",
       "\n",
       "    .dataframe thead th {\n",
       "        text-align: right;\n",
       "    }\n",
       "</style>\n",
       "<table border=\"1\" class=\"dataframe\">\n",
       "  <thead>\n",
       "    <tr style=\"text-align: right;\">\n",
       "      <th></th>\n",
       "      <th>lat</th>\n",
       "      <th>lon</th>\n",
       "      <th>rooms</th>\n",
       "      <th>bedrooms</th>\n",
       "      <th>bathrooms</th>\n",
       "      <th>surface_total</th>\n",
       "      <th>surface_covered</th>\n",
       "      <th>price</th>\n",
       "    </tr>\n",
       "  </thead>\n",
       "  <tbody>\n",
       "    <tr>\n",
       "      <th>count</th>\n",
       "      <td>131,986.000</td>\n",
       "      <td>131,955.000</td>\n",
       "      <td>141,547.000</td>\n",
       "      <td>141,547.000</td>\n",
       "      <td>137,355.000</td>\n",
       "      <td>122,994.000</td>\n",
       "      <td>122,638.000</td>\n",
       "      <td>141,547.000</td>\n",
       "    </tr>\n",
       "    <tr>\n",
       "      <th>mean</th>\n",
       "      <td>-34.603</td>\n",
       "      <td>-58.465</td>\n",
       "      <td>3.089</td>\n",
       "      <td>1.993</td>\n",
       "      <td>1.596</td>\n",
       "      <td>182.866</td>\n",
       "      <td>103.707</td>\n",
       "      <td>237,899.215</td>\n",
       "    </tr>\n",
       "    <tr>\n",
       "      <th>std</th>\n",
       "      <td>0.476</td>\n",
       "      <td>0.494</td>\n",
       "      <td>1.378</td>\n",
       "      <td>1.121</td>\n",
       "      <td>0.883</td>\n",
       "      <td>1,445.091</td>\n",
       "      <td>736.907</td>\n",
       "      <td>285,948.655</td>\n",
       "    </tr>\n",
       "    <tr>\n",
       "      <th>min</th>\n",
       "      <td>-35.151</td>\n",
       "      <td>-180.000</td>\n",
       "      <td>1.000</td>\n",
       "      <td>0.000</td>\n",
       "      <td>1.000</td>\n",
       "      <td>16.000</td>\n",
       "      <td>16.000</td>\n",
       "      <td>6,000.000</td>\n",
       "    </tr>\n",
       "    <tr>\n",
       "      <th>25%</th>\n",
       "      <td>-34.626</td>\n",
       "      <td>-58.503</td>\n",
       "      <td>2.000</td>\n",
       "      <td>1.000</td>\n",
       "      <td>1.000</td>\n",
       "      <td>52.000</td>\n",
       "      <td>47.000</td>\n",
       "      <td>112,000.000</td>\n",
       "    </tr>\n",
       "    <tr>\n",
       "      <th>50%</th>\n",
       "      <td>-34.601</td>\n",
       "      <td>-58.443</td>\n",
       "      <td>3.000</td>\n",
       "      <td>2.000</td>\n",
       "      <td>1.000</td>\n",
       "      <td>78.000</td>\n",
       "      <td>68.000</td>\n",
       "      <td>166,000.000</td>\n",
       "    </tr>\n",
       "    <tr>\n",
       "      <th>75%</th>\n",
       "      <td>-34.574</td>\n",
       "      <td>-58.408</td>\n",
       "      <td>4.000</td>\n",
       "      <td>3.000</td>\n",
       "      <td>2.000</td>\n",
       "      <td>137.000</td>\n",
       "      <td>107.000</td>\n",
       "      <td>264,187.500</td>\n",
       "    </tr>\n",
       "    <tr>\n",
       "      <th>max</th>\n",
       "      <td>85.051</td>\n",
       "      <td>-57.806</td>\n",
       "      <td>35.000</td>\n",
       "      <td>15.000</td>\n",
       "      <td>14.000</td>\n",
       "      <td>169,000.000</td>\n",
       "      <td>126,062.000</td>\n",
       "      <td>32,434,232.000</td>\n",
       "    </tr>\n",
       "    <tr>\n",
       "      <th>RIC</th>\n",
       "      <td>0.052</td>\n",
       "      <td>0.095</td>\n",
       "      <td>2.000</td>\n",
       "      <td>2.000</td>\n",
       "      <td>1.000</td>\n",
       "      <td>85.000</td>\n",
       "      <td>60.000</td>\n",
       "      <td>152,187.500</td>\n",
       "    </tr>\n",
       "    <tr>\n",
       "      <th>lim_inf</th>\n",
       "      <td>-34.704</td>\n",
       "      <td>-58.645</td>\n",
       "      <td>-1.000</td>\n",
       "      <td>-2.000</td>\n",
       "      <td>-0.500</td>\n",
       "      <td>-75.500</td>\n",
       "      <td>-43.000</td>\n",
       "      <td>-116,281.250</td>\n",
       "    </tr>\n",
       "    <tr>\n",
       "      <th>lim_sup</th>\n",
       "      <td>-34.496</td>\n",
       "      <td>-58.266</td>\n",
       "      <td>7.000</td>\n",
       "      <td>6.000</td>\n",
       "      <td>3.500</td>\n",
       "      <td>264.500</td>\n",
       "      <td>197.000</td>\n",
       "      <td>492,468.750</td>\n",
       "    </tr>\n",
       "  </tbody>\n",
       "</table>\n",
       "</div>"
      ],
      "text/plain": [
       "                lat         lon       rooms    bedrooms   bathrooms  \\\n",
       "count   131,986.000 131,955.000 141,547.000 141,547.000 137,355.000   \n",
       "mean        -34.603     -58.465       3.089       1.993       1.596   \n",
       "std           0.476       0.494       1.378       1.121       0.883   \n",
       "min         -35.151    -180.000       1.000       0.000       1.000   \n",
       "25%         -34.626     -58.503       2.000       1.000       1.000   \n",
       "50%         -34.601     -58.443       3.000       2.000       1.000   \n",
       "75%         -34.574     -58.408       4.000       3.000       2.000   \n",
       "max          85.051     -57.806      35.000      15.000      14.000   \n",
       "RIC           0.052       0.095       2.000       2.000       1.000   \n",
       "lim_inf     -34.704     -58.645      -1.000      -2.000      -0.500   \n",
       "lim_sup     -34.496     -58.266       7.000       6.000       3.500   \n",
       "\n",
       "         surface_total  surface_covered          price  \n",
       "count      122,994.000      122,638.000    141,547.000  \n",
       "mean           182.866          103.707    237,899.215  \n",
       "std          1,445.091          736.907    285,948.655  \n",
       "min             16.000           16.000      6,000.000  \n",
       "25%             52.000           47.000    112,000.000  \n",
       "50%             78.000           68.000    166,000.000  \n",
       "75%            137.000          107.000    264,187.500  \n",
       "max        169,000.000      126,062.000 32,434,232.000  \n",
       "RIC             85.000           60.000    152,187.500  \n",
       "lim_inf        -75.500          -43.000   -116,281.250  \n",
       "lim_sup        264.500          197.000    492,468.750  "
      ]
     },
     "execution_count": 96,
     "metadata": {},
     "output_type": "execute_result"
    }
   ],
   "source": [
    "RICdesc=RICdescribe(df)\n",
    "RICdesc"
   ]
  },
  {
   "cell_type": "markdown",
   "id": "35fa2819-9ceb-4e98-97b0-3a018c8d2f80",
   "metadata": {
    "tags": []
   },
   "source": [
    "Se puede observar que a excepcion de los atributos lat y lon los valores minimos del resto de atributos estan dentro del intervalo de aceptacion. Mientras que para todos los atributos sus respectivos valores maximos estan por fuera del intervalo de valores aceptados. A los valores que estan por fuera del intervalo de aceptacion se le asignara NaN."
   ]
  },
  {
   "cell_type": "code",
   "execution_count": 97,
   "id": "566c634d-ccb9-42c5-98f9-66fc25a1a714",
   "metadata": {
    "tags": []
   },
   "outputs": [],
   "source": [
    "df_nanol=NaN_outliers(df, RICdesc)"
   ]
  },
  {
   "cell_type": "code",
   "execution_count": 98,
   "id": "8f14a07f-1c6f-4f20-a52c-7b95db8ff6f4",
   "metadata": {
    "tags": []
   },
   "outputs": [
    {
     "name": "stdout",
     "output_type": "stream",
     "text": [
      "El total de NaN en el dataframe es 60807 corresponde al  2.261 % del total de los datos\n",
      "                 Conteo por columnas      %\n",
      "Atributo                                   \n",
      "lat                             9561  6.755\n",
      "lon                             9592  6.777\n",
      "l2                                 0  0.000\n",
      "l3                                 0  0.000\n",
      "rooms                              0  0.000\n",
      "bedrooms                           0  0.000\n",
      "bathrooms                       4192  2.962\n",
      "surface_total                  18553 13.107\n",
      "surface_covered                18909 13.359\n",
      "price                              0  0.000\n",
      "property_type                      0  0.000\n",
      "                       Conteo      %\n",
      "Numero de NaN en fila               \n",
      "0                      112282 79.325\n",
      "1                        2620  1.851\n",
      "2                       23069 16.298\n",
      "3                        2466  1.742\n",
      "4                         899  0.635\n",
      "5                         211  0.149\n"
     ]
    }
   ],
   "source": [
    "dfnans(df);"
   ]
  },
  {
   "cell_type": "code",
   "execution_count": 99,
   "id": "116c36ff-a09c-4361-83cf-56537b733f57",
   "metadata": {
    "tags": []
   },
   "outputs": [
    {
     "name": "stdout",
     "output_type": "stream",
     "text": [
      "El total de NaN en el dataframe es 146699 corresponde al  5.455 % del total de los datos\n",
      "                 Conteo por columnas      %\n",
      "Atributo                                   \n",
      "lat                            35968 25.411\n",
      "lon                            26637 18.818\n",
      "l2                                 0  0.000\n",
      "l3                                 0  0.000\n",
      "rooms                           2981  2.106\n",
      "bedrooms                        1040  0.735\n",
      "bathrooms                       9580  6.768\n",
      "surface_total                  31336 22.138\n",
      "surface_covered                28636 20.231\n",
      "price                          10521  7.433\n",
      "property_type                      0  0.000\n",
      "                       Conteo      %\n",
      "Numero de NaN en fila               \n",
      "0                       76981 54.385\n",
      "1                       16156 11.414\n",
      "2                       27938 19.738\n",
      "3                       11936  8.433\n",
      "4                        5391  3.809\n",
      "5                        1933  1.366\n",
      "6                         912  0.644\n",
      "7                         242  0.171\n",
      "8                          58  0.041\n"
     ]
    }
   ],
   "source": [
    "dfnans(df_nanol);"
   ]
  },
  {
   "cell_type": "markdown",
   "id": "9d9dd30b-d3b6-463b-bbd6-f2bacbfc9c95",
   "metadata": {},
   "source": [
    "#### Outliers por departamento"
   ]
  },
  {
   "cell_type": "code",
   "execution_count": 100,
   "id": "ace4cbfb-399d-423b-8f2a-acbb6e47d885",
   "metadata": {},
   "outputs": [],
   "source": [
    "df_depa=df[df.property_type=='Departamento']"
   ]
  },
  {
   "cell_type": "code",
   "execution_count": 101,
   "id": "22b8119a-06ba-43d7-8871-e009c30e6b7b",
   "metadata": {
    "tags": []
   },
   "outputs": [
    {
     "data": {
      "text/html": [
       "<div>\n",
       "<style scoped>\n",
       "    .dataframe tbody tr th:only-of-type {\n",
       "        vertical-align: middle;\n",
       "    }\n",
       "\n",
       "    .dataframe tbody tr th {\n",
       "        vertical-align: top;\n",
       "    }\n",
       "\n",
       "    .dataframe thead th {\n",
       "        text-align: right;\n",
       "    }\n",
       "</style>\n",
       "<table border=\"1\" class=\"dataframe\">\n",
       "  <thead>\n",
       "    <tr style=\"text-align: right;\">\n",
       "      <th></th>\n",
       "      <th>lat</th>\n",
       "      <th>lon</th>\n",
       "      <th>rooms</th>\n",
       "      <th>bedrooms</th>\n",
       "      <th>bathrooms</th>\n",
       "      <th>surface_total</th>\n",
       "      <th>surface_covered</th>\n",
       "      <th>price</th>\n",
       "    </tr>\n",
       "  </thead>\n",
       "  <tbody>\n",
       "    <tr>\n",
       "      <th>count</th>\n",
       "      <td>98,648.000</td>\n",
       "      <td>98,636.000</td>\n",
       "      <td>106,454.000</td>\n",
       "      <td>106,454.000</td>\n",
       "      <td>103,766.000</td>\n",
       "      <td>92,927.000</td>\n",
       "      <td>92,565.000</td>\n",
       "      <td>106,454.000</td>\n",
       "    </tr>\n",
       "    <tr>\n",
       "      <th>mean</th>\n",
       "      <td>-34.594</td>\n",
       "      <td>-58.454</td>\n",
       "      <td>2.758</td>\n",
       "      <td>1.759</td>\n",
       "      <td>1.511</td>\n",
       "      <td>99.399</td>\n",
       "      <td>81.915</td>\n",
       "      <td>237,465.670</td>\n",
       "    </tr>\n",
       "    <tr>\n",
       "      <th>std</th>\n",
       "      <td>0.389</td>\n",
       "      <td>0.404</td>\n",
       "      <td>1.146</td>\n",
       "      <td>0.950</td>\n",
       "      <td>0.814</td>\n",
       "      <td>646.834</td>\n",
       "      <td>436.638</td>\n",
       "      <td>304,436.236</td>\n",
       "    </tr>\n",
       "    <tr>\n",
       "      <th>min</th>\n",
       "      <td>-35.121</td>\n",
       "      <td>-180.000</td>\n",
       "      <td>1.000</td>\n",
       "      <td>0.000</td>\n",
       "      <td>1.000</td>\n",
       "      <td>16.000</td>\n",
       "      <td>16.000</td>\n",
       "      <td>6,000.000</td>\n",
       "    </tr>\n",
       "    <tr>\n",
       "      <th>25%</th>\n",
       "      <td>-34.616</td>\n",
       "      <td>-58.481</td>\n",
       "      <td>2.000</td>\n",
       "      <td>1.000</td>\n",
       "      <td>1.000</td>\n",
       "      <td>48.000</td>\n",
       "      <td>44.000</td>\n",
       "      <td>110,000.000</td>\n",
       "    </tr>\n",
       "    <tr>\n",
       "      <th>50%</th>\n",
       "      <td>-34.598</td>\n",
       "      <td>-58.438</td>\n",
       "      <td>3.000</td>\n",
       "      <td>2.000</td>\n",
       "      <td>1.000</td>\n",
       "      <td>67.000</td>\n",
       "      <td>60.000</td>\n",
       "      <td>160,000.000</td>\n",
       "    </tr>\n",
       "    <tr>\n",
       "      <th>75%</th>\n",
       "      <td>-34.574</td>\n",
       "      <td>-58.407</td>\n",
       "      <td>3.000</td>\n",
       "      <td>2.000</td>\n",
       "      <td>2.000</td>\n",
       "      <td>99.000</td>\n",
       "      <td>85.000</td>\n",
       "      <td>254,000.000</td>\n",
       "    </tr>\n",
       "    <tr>\n",
       "      <th>max</th>\n",
       "      <td>85.051</td>\n",
       "      <td>-57.901</td>\n",
       "      <td>32.000</td>\n",
       "      <td>15.000</td>\n",
       "      <td>14.000</td>\n",
       "      <td>108,960.000</td>\n",
       "      <td>104,890.000</td>\n",
       "      <td>32,434,232.000</td>\n",
       "    </tr>\n",
       "    <tr>\n",
       "      <th>RIC</th>\n",
       "      <td>0.042</td>\n",
       "      <td>0.074</td>\n",
       "      <td>1.000</td>\n",
       "      <td>1.000</td>\n",
       "      <td>1.000</td>\n",
       "      <td>51.000</td>\n",
       "      <td>41.000</td>\n",
       "      <td>144,000.000</td>\n",
       "    </tr>\n",
       "    <tr>\n",
       "      <th>lim_inf</th>\n",
       "      <td>-34.680</td>\n",
       "      <td>-58.593</td>\n",
       "      <td>0.500</td>\n",
       "      <td>-0.500</td>\n",
       "      <td>-0.500</td>\n",
       "      <td>-28.500</td>\n",
       "      <td>-17.500</td>\n",
       "      <td>-106,000.000</td>\n",
       "    </tr>\n",
       "    <tr>\n",
       "      <th>lim_sup</th>\n",
       "      <td>-34.511</td>\n",
       "      <td>-58.296</td>\n",
       "      <td>4.500</td>\n",
       "      <td>3.500</td>\n",
       "      <td>3.500</td>\n",
       "      <td>175.500</td>\n",
       "      <td>146.500</td>\n",
       "      <td>470,000.000</td>\n",
       "    </tr>\n",
       "  </tbody>\n",
       "</table>\n",
       "</div>"
      ],
      "text/plain": [
       "               lat        lon       rooms    bedrooms   bathrooms  \\\n",
       "count   98,648.000 98,636.000 106,454.000 106,454.000 103,766.000   \n",
       "mean       -34.594    -58.454       2.758       1.759       1.511   \n",
       "std          0.389      0.404       1.146       0.950       0.814   \n",
       "min        -35.121   -180.000       1.000       0.000       1.000   \n",
       "25%        -34.616    -58.481       2.000       1.000       1.000   \n",
       "50%        -34.598    -58.438       3.000       2.000       1.000   \n",
       "75%        -34.574    -58.407       3.000       2.000       2.000   \n",
       "max         85.051    -57.901      32.000      15.000      14.000   \n",
       "RIC          0.042      0.074       1.000       1.000       1.000   \n",
       "lim_inf    -34.680    -58.593       0.500      -0.500      -0.500   \n",
       "lim_sup    -34.511    -58.296       4.500       3.500       3.500   \n",
       "\n",
       "         surface_total  surface_covered          price  \n",
       "count       92,927.000       92,565.000    106,454.000  \n",
       "mean            99.399           81.915    237,465.670  \n",
       "std            646.834          436.638    304,436.236  \n",
       "min             16.000           16.000      6,000.000  \n",
       "25%             48.000           44.000    110,000.000  \n",
       "50%             67.000           60.000    160,000.000  \n",
       "75%             99.000           85.000    254,000.000  \n",
       "max        108,960.000      104,890.000 32,434,232.000  \n",
       "RIC             51.000           41.000    144,000.000  \n",
       "lim_inf        -28.500          -17.500   -106,000.000  \n",
       "lim_sup        175.500          146.500    470,000.000  "
      ]
     },
     "execution_count": 101,
     "metadata": {},
     "output_type": "execute_result"
    }
   ],
   "source": [
    "RICdescribe_depa=RICdescribe(df_depa)\n",
    "RICdescribe_depa"
   ]
  },
  {
   "cell_type": "code",
   "execution_count": 102,
   "id": "c8abfb1f-1fa6-4a60-b32e-be04d0097bf1",
   "metadata": {
    "tags": []
   },
   "outputs": [
    {
     "name": "stdout",
     "output_type": "stream",
     "text": [
      "El total de NaN en el dataframe es 45728 corresponde al  2.261 % del total de los datos\n",
      "                 Conteo por columnas      %\n",
      "Atributo                                   \n",
      "lat                             7806  7.333\n",
      "lon                             7818  7.344\n",
      "l2                                 0  0.000\n",
      "l3                                 0  0.000\n",
      "rooms                              0  0.000\n",
      "bedrooms                           0  0.000\n",
      "bathrooms                       2688  2.525\n",
      "surface_total                  13527 12.707\n",
      "surface_covered                13889 13.047\n",
      "price                              0  0.000\n",
      "property_type                      0  0.000\n",
      "                       Conteo      %\n",
      "Numero de NaN en fila               \n",
      "0                       84273 79.164\n",
      "1                        1726  1.621\n",
      "2                       18160 17.059\n",
      "3                        1609  1.511\n",
      "4                         575  0.540\n",
      "5                         111  0.104\n"
     ]
    }
   ],
   "source": [
    "dfnans(df_depa);"
   ]
  },
  {
   "cell_type": "code",
   "execution_count": 103,
   "id": "4ef7345f-8573-43e6-aaf1-fcd354bab249",
   "metadata": {},
   "outputs": [],
   "source": [
    "df_depa_nanol=NaN_outliers(df_depa, RICdescribe_depa);"
   ]
  },
  {
   "cell_type": "code",
   "execution_count": 104,
   "id": "9ab34ec6-26ca-408e-badb-8cf9efa276d2",
   "metadata": {},
   "outputs": [
    {
     "name": "stdout",
     "output_type": "stream",
     "text": [
      "El total de NaN en el dataframe es 108074 corresponde al  5.343 % del total de los datos\n",
      "                 Conteo por columnas      %\n",
      "Atributo                                   \n",
      "lat                            24337 22.862\n",
      "lon                            18632 17.502\n",
      "l2                                 0  0.000\n",
      "l3                                 0  0.000\n",
      "rooms                           6023  5.658\n",
      "bedrooms                        3940  3.701\n",
      "bathrooms                       5760  5.411\n",
      "surface_total                  20068 18.851\n",
      "surface_covered                20514 19.270\n",
      "price                           8800  8.266\n",
      "property_type                      0  0.000\n",
      "                       Conteo      %\n",
      "Numero de NaN en fila               \n",
      "0                       59012 55.434\n",
      "1                       11755 11.042\n",
      "2                       22447 21.086\n",
      "3                        6527  6.131\n",
      "4                        3462  3.252\n",
      "5                        1915  1.799\n",
      "6                        1016  0.954\n",
      "7                         235  0.221\n",
      "8                          85  0.080\n"
     ]
    }
   ],
   "source": [
    "dfnans(df_depa_nanol);"
   ]
  },
  {
   "cell_type": "markdown",
   "id": "e75483be-02ce-4789-a4cc-f0ccadffa0f2",
   "metadata": {},
   "source": [
    "#### Outliers por propiedad horizontal PH"
   ]
  },
  {
   "cell_type": "code",
   "execution_count": 105,
   "id": "a30450c0-4d14-4fc5-9fd9-7ccd04739e60",
   "metadata": {},
   "outputs": [],
   "source": [
    "df_PH=df[df.property_type=='PH']"
   ]
  },
  {
   "cell_type": "code",
   "execution_count": 106,
   "id": "d3232cf4-492f-46da-8dcc-40d2634863fd",
   "metadata": {},
   "outputs": [
    {
     "data": {
      "text/html": [
       "<div>\n",
       "<style scoped>\n",
       "    .dataframe tbody tr th:only-of-type {\n",
       "        vertical-align: middle;\n",
       "    }\n",
       "\n",
       "    .dataframe tbody tr th {\n",
       "        vertical-align: top;\n",
       "    }\n",
       "\n",
       "    .dataframe thead th {\n",
       "        text-align: right;\n",
       "    }\n",
       "</style>\n",
       "<table border=\"1\" class=\"dataframe\">\n",
       "  <thead>\n",
       "    <tr style=\"text-align: right;\">\n",
       "      <th></th>\n",
       "      <th>lat</th>\n",
       "      <th>lon</th>\n",
       "      <th>rooms</th>\n",
       "      <th>bedrooms</th>\n",
       "      <th>bathrooms</th>\n",
       "      <th>surface_total</th>\n",
       "      <th>surface_covered</th>\n",
       "      <th>price</th>\n",
       "    </tr>\n",
       "  </thead>\n",
       "  <tbody>\n",
       "    <tr>\n",
       "      <th>count</th>\n",
       "      <td>13,761.000</td>\n",
       "      <td>13,756.000</td>\n",
       "      <td>14,181.000</td>\n",
       "      <td>14,181.000</td>\n",
       "      <td>14,004.000</td>\n",
       "      <td>14,066.000</td>\n",
       "      <td>14,026.000</td>\n",
       "      <td>14,181.000</td>\n",
       "    </tr>\n",
       "    <tr>\n",
       "      <th>mean</th>\n",
       "      <td>-34.617</td>\n",
       "      <td>-58.455</td>\n",
       "      <td>3.528</td>\n",
       "      <td>2.416</td>\n",
       "      <td>1.483</td>\n",
       "      <td>173.359</td>\n",
       "      <td>117.198</td>\n",
       "      <td>188,577.963</td>\n",
       "    </tr>\n",
       "    <tr>\n",
       "      <th>std</th>\n",
       "      <td>0.074</td>\n",
       "      <td>0.110</td>\n",
       "      <td>1.338</td>\n",
       "      <td>1.155</td>\n",
       "      <td>0.745</td>\n",
       "      <td>2,033.645</td>\n",
       "      <td>1,519.019</td>\n",
       "      <td>112,895.715</td>\n",
       "    </tr>\n",
       "    <tr>\n",
       "      <th>min</th>\n",
       "      <td>-35.121</td>\n",
       "      <td>-58.938</td>\n",
       "      <td>1.000</td>\n",
       "      <td>0.000</td>\n",
       "      <td>1.000</td>\n",
       "      <td>20.000</td>\n",
       "      <td>17.000</td>\n",
       "      <td>13,000.000</td>\n",
       "    </tr>\n",
       "    <tr>\n",
       "      <th>25%</th>\n",
       "      <td>-34.636</td>\n",
       "      <td>-58.504</td>\n",
       "      <td>3.000</td>\n",
       "      <td>2.000</td>\n",
       "      <td>1.000</td>\n",
       "      <td>70.000</td>\n",
       "      <td>56.000</td>\n",
       "      <td>109,000.000</td>\n",
       "    </tr>\n",
       "    <tr>\n",
       "      <th>50%</th>\n",
       "      <td>-34.609</td>\n",
       "      <td>-58.458</td>\n",
       "      <td>3.000</td>\n",
       "      <td>2.000</td>\n",
       "      <td>1.000</td>\n",
       "      <td>106.000</td>\n",
       "      <td>80.000</td>\n",
       "      <td>160,000.000</td>\n",
       "    </tr>\n",
       "    <tr>\n",
       "      <th>75%</th>\n",
       "      <td>-34.588</td>\n",
       "      <td>-58.421</td>\n",
       "      <td>4.000</td>\n",
       "      <td>3.000</td>\n",
       "      <td>2.000</td>\n",
       "      <td>151.000</td>\n",
       "      <td>118.000</td>\n",
       "      <td>248,000.000</td>\n",
       "    </tr>\n",
       "    <tr>\n",
       "      <th>max</th>\n",
       "      <td>-34.226</td>\n",
       "      <td>-57.887</td>\n",
       "      <td>35.000</td>\n",
       "      <td>15.000</td>\n",
       "      <td>11.000</td>\n",
       "      <td>126,062.000</td>\n",
       "      <td>126,062.000</td>\n",
       "      <td>1,750,000.000</td>\n",
       "    </tr>\n",
       "    <tr>\n",
       "      <th>RIC</th>\n",
       "      <td>0.049</td>\n",
       "      <td>0.084</td>\n",
       "      <td>1.000</td>\n",
       "      <td>1.000</td>\n",
       "      <td>1.000</td>\n",
       "      <td>81.000</td>\n",
       "      <td>62.000</td>\n",
       "      <td>139,000.000</td>\n",
       "    </tr>\n",
       "    <tr>\n",
       "      <th>lim_inf</th>\n",
       "      <td>-34.710</td>\n",
       "      <td>-58.630</td>\n",
       "      <td>1.500</td>\n",
       "      <td>0.500</td>\n",
       "      <td>-0.500</td>\n",
       "      <td>-51.500</td>\n",
       "      <td>-37.000</td>\n",
       "      <td>-99,500.000</td>\n",
       "    </tr>\n",
       "    <tr>\n",
       "      <th>lim_sup</th>\n",
       "      <td>-34.514</td>\n",
       "      <td>-58.295</td>\n",
       "      <td>5.500</td>\n",
       "      <td>4.500</td>\n",
       "      <td>3.500</td>\n",
       "      <td>272.500</td>\n",
       "      <td>211.000</td>\n",
       "      <td>456,500.000</td>\n",
       "    </tr>\n",
       "  </tbody>\n",
       "</table>\n",
       "</div>"
      ],
      "text/plain": [
       "               lat        lon      rooms   bedrooms  bathrooms  surface_total  \\\n",
       "count   13,761.000 13,756.000 14,181.000 14,181.000 14,004.000     14,066.000   \n",
       "mean       -34.617    -58.455      3.528      2.416      1.483        173.359   \n",
       "std          0.074      0.110      1.338      1.155      0.745      2,033.645   \n",
       "min        -35.121    -58.938      1.000      0.000      1.000         20.000   \n",
       "25%        -34.636    -58.504      3.000      2.000      1.000         70.000   \n",
       "50%        -34.609    -58.458      3.000      2.000      1.000        106.000   \n",
       "75%        -34.588    -58.421      4.000      3.000      2.000        151.000   \n",
       "max        -34.226    -57.887     35.000     15.000     11.000    126,062.000   \n",
       "RIC          0.049      0.084      1.000      1.000      1.000         81.000   \n",
       "lim_inf    -34.710    -58.630      1.500      0.500     -0.500        -51.500   \n",
       "lim_sup    -34.514    -58.295      5.500      4.500      3.500        272.500   \n",
       "\n",
       "         surface_covered         price  \n",
       "count         14,026.000    14,181.000  \n",
       "mean             117.198   188,577.963  \n",
       "std            1,519.019   112,895.715  \n",
       "min               17.000    13,000.000  \n",
       "25%               56.000   109,000.000  \n",
       "50%               80.000   160,000.000  \n",
       "75%              118.000   248,000.000  \n",
       "max          126,062.000 1,750,000.000  \n",
       "RIC               62.000   139,000.000  \n",
       "lim_inf          -37.000   -99,500.000  \n",
       "lim_sup          211.000   456,500.000  "
      ]
     },
     "execution_count": 106,
     "metadata": {},
     "output_type": "execute_result"
    }
   ],
   "source": [
    "RICdescribe_PH=RICdescribe(df_PH)\n",
    "RICdescribe_PH"
   ]
  },
  {
   "cell_type": "code",
   "execution_count": 107,
   "id": "81a1a097-51bb-4ed1-922f-1cace30f1285",
   "metadata": {},
   "outputs": [],
   "source": [
    "df_PH_nanol= (df_PH, RICdescribe_PH)"
   ]
  },
  {
   "cell_type": "code",
   "execution_count": 108,
   "id": "c950e0d1-a62d-4da6-baf7-ecbe4cfc5583",
   "metadata": {},
   "outputs": [
    {
     "name": "stdout",
     "output_type": "stream",
     "text": [
      "El total de NaN en el dataframe es 1292 corresponde al  0.48 % del total de los datos\n",
      "                 Conteo por columnas     %\n",
      "Atributo                                  \n",
      "lat                              420 2.962\n",
      "lon                              425 2.997\n",
      "l2                                 0 0.000\n",
      "l3                                 0 0.000\n",
      "rooms                              0 0.000\n",
      "bedrooms                           0 0.000\n",
      "bathrooms                        177 1.248\n",
      "surface_total                    115 0.811\n",
      "surface_covered                  155 1.093\n",
      "price                              0 0.000\n",
      "property_type                      0 0.000\n",
      "                       Conteo      %\n",
      "Numero de NaN en fila               \n",
      "0                       13431 94.711\n",
      "1                         269  1.897\n",
      "2                         441  3.110\n",
      "3                          23  0.162\n",
      "4                          13  0.092\n",
      "5                           4  0.028\n"
     ]
    }
   ],
   "source": [
    "dfnans(df_PH);"
   ]
  },
  {
   "cell_type": "code",
   "execution_count": 109,
   "id": "63aa3a0c-dd0e-41e3-829b-e03637daa2b9",
   "metadata": {},
   "outputs": [
    {
     "name": "stdout",
     "output_type": "stream",
     "text": [
      "El total de NaN en el dataframe es 7263 corresponde al  2.696 % del total de los datos\n",
      "                 Conteo por columnas      %\n",
      "Atributo                                   \n",
      "lat                             1903 13.419\n",
      "lon                             1299  9.160\n",
      "l2                                 0  0.000\n",
      "l3                                 0  0.000\n",
      "rooms                            962  6.784\n",
      "bedrooms                         536  3.780\n",
      "bathrooms                        476  3.357\n",
      "surface_total                   1037  7.313\n",
      "surface_covered                  642  4.527\n",
      "price                            408  2.877\n",
      "property_type                      0  0.000\n",
      "                       Conteo      %\n",
      "Numero de NaN en fila               \n",
      "0                       10171 71.723\n",
      "1                        1886 13.299\n",
      "2                        1518 10.704\n",
      "3                         289  2.038\n",
      "4                         170  1.199\n",
      "5                          92  0.649\n",
      "6                          51  0.360\n",
      "7                           4  0.028\n"
     ]
    }
   ],
   "source": [
    "dfnans(df_PH_nanol);"
   ]
  },
  {
   "cell_type": "markdown",
   "id": "a4fdf4a0-6d5e-419e-9316-a546c8ff3b18",
   "metadata": {},
   "source": [
    "#### Outliers por casa"
   ]
  },
  {
   "cell_type": "code",
   "execution_count": 110,
   "id": "e3bba6cd-ec5b-4e59-a676-eacd8e1ecbc2",
   "metadata": {},
   "outputs": [],
   "source": [
    "df_casa=df[df.property_type=='Casa']"
   ]
  },
  {
   "cell_type": "code",
   "execution_count": 111,
   "id": "f93917c0-a729-454a-9deb-624cd01e4eb7",
   "metadata": {},
   "outputs": [
    {
     "data": {
      "text/html": [
       "<div>\n",
       "<style scoped>\n",
       "    .dataframe tbody tr th:only-of-type {\n",
       "        vertical-align: middle;\n",
       "    }\n",
       "\n",
       "    .dataframe tbody tr th {\n",
       "        vertical-align: top;\n",
       "    }\n",
       "\n",
       "    .dataframe thead th {\n",
       "        text-align: right;\n",
       "    }\n",
       "</style>\n",
       "<table border=\"1\" class=\"dataframe\">\n",
       "  <thead>\n",
       "    <tr style=\"text-align: right;\">\n",
       "      <th></th>\n",
       "      <th>lat</th>\n",
       "      <th>lon</th>\n",
       "      <th>rooms</th>\n",
       "      <th>bedrooms</th>\n",
       "      <th>bathrooms</th>\n",
       "      <th>surface_total</th>\n",
       "      <th>surface_covered</th>\n",
       "      <th>price</th>\n",
       "    </tr>\n",
       "  </thead>\n",
       "  <tbody>\n",
       "    <tr>\n",
       "      <th>count</th>\n",
       "      <td>19,577.000</td>\n",
       "      <td>19,563.000</td>\n",
       "      <td>20,912.000</td>\n",
       "      <td>20,912.000</td>\n",
       "      <td>19,585.000</td>\n",
       "      <td>16,001.000</td>\n",
       "      <td>16,047.000</td>\n",
       "      <td>20,912.000</td>\n",
       "    </tr>\n",
       "    <tr>\n",
       "      <th>mean</th>\n",
       "      <td>-34.640</td>\n",
       "      <td>-58.528</td>\n",
       "      <td>4.474</td>\n",
       "      <td>2.902</td>\n",
       "      <td>2.128</td>\n",
       "      <td>675.958</td>\n",
       "      <td>217.617</td>\n",
       "      <td>273,552.301</td>\n",
       "    </tr>\n",
       "    <tr>\n",
       "      <th>std</th>\n",
       "      <td>0.870</td>\n",
       "      <td>0.899</td>\n",
       "      <td>1.536</td>\n",
       "      <td>1.331</td>\n",
       "      <td>1.111</td>\n",
       "      <td>3,115.055</td>\n",
       "      <td>1,008.870</td>\n",
       "      <td>264,749.088</td>\n",
       "    </tr>\n",
       "    <tr>\n",
       "      <th>min</th>\n",
       "      <td>-35.151</td>\n",
       "      <td>-180.000</td>\n",
       "      <td>1.000</td>\n",
       "      <td>0.000</td>\n",
       "      <td>1.000</td>\n",
       "      <td>25.000</td>\n",
       "      <td>21.000</td>\n",
       "      <td>10,000.000</td>\n",
       "    </tr>\n",
       "    <tr>\n",
       "      <th>25%</th>\n",
       "      <td>-34.755</td>\n",
       "      <td>-58.683</td>\n",
       "      <td>3.000</td>\n",
       "      <td>2.000</td>\n",
       "      <td>1.000</td>\n",
       "      <td>201.000</td>\n",
       "      <td>110.000</td>\n",
       "      <td>130,000.000</td>\n",
       "    </tr>\n",
       "    <tr>\n",
       "      <th>50%</th>\n",
       "      <td>-34.641</td>\n",
       "      <td>-58.524</td>\n",
       "      <td>4.000</td>\n",
       "      <td>3.000</td>\n",
       "      <td>2.000</td>\n",
       "      <td>307.000</td>\n",
       "      <td>160.000</td>\n",
       "      <td>208,000.000</td>\n",
       "    </tr>\n",
       "    <tr>\n",
       "      <th>75%</th>\n",
       "      <td>-34.540</td>\n",
       "      <td>-58.402</td>\n",
       "      <td>5.000</td>\n",
       "      <td>4.000</td>\n",
       "      <td>3.000</td>\n",
       "      <td>589.000</td>\n",
       "      <td>230.000</td>\n",
       "      <td>330,000.000</td>\n",
       "    </tr>\n",
       "    <tr>\n",
       "      <th>max</th>\n",
       "      <td>85.051</td>\n",
       "      <td>-57.806</td>\n",
       "      <td>26.000</td>\n",
       "      <td>15.000</td>\n",
       "      <td>13.000</td>\n",
       "      <td>169,000.000</td>\n",
       "      <td>75,792.000</td>\n",
       "      <td>11,111,111.000</td>\n",
       "    </tr>\n",
       "    <tr>\n",
       "      <th>RIC</th>\n",
       "      <td>0.215</td>\n",
       "      <td>0.281</td>\n",
       "      <td>2.000</td>\n",
       "      <td>2.000</td>\n",
       "      <td>2.000</td>\n",
       "      <td>388.000</td>\n",
       "      <td>120.000</td>\n",
       "      <td>200,000.000</td>\n",
       "    </tr>\n",
       "    <tr>\n",
       "      <th>lim_inf</th>\n",
       "      <td>-35.077</td>\n",
       "      <td>-59.104</td>\n",
       "      <td>0.000</td>\n",
       "      <td>-1.000</td>\n",
       "      <td>-2.000</td>\n",
       "      <td>-381.000</td>\n",
       "      <td>-70.000</td>\n",
       "      <td>-170,000.000</td>\n",
       "    </tr>\n",
       "    <tr>\n",
       "      <th>lim_sup</th>\n",
       "      <td>-34.218</td>\n",
       "      <td>-57.981</td>\n",
       "      <td>8.000</td>\n",
       "      <td>7.000</td>\n",
       "      <td>6.000</td>\n",
       "      <td>1,171.000</td>\n",
       "      <td>410.000</td>\n",
       "      <td>630,000.000</td>\n",
       "    </tr>\n",
       "  </tbody>\n",
       "</table>\n",
       "</div>"
      ],
      "text/plain": [
       "               lat        lon      rooms   bedrooms  bathrooms  surface_total  \\\n",
       "count   19,577.000 19,563.000 20,912.000 20,912.000 19,585.000     16,001.000   \n",
       "mean       -34.640    -58.528      4.474      2.902      2.128        675.958   \n",
       "std          0.870      0.899      1.536      1.331      1.111      3,115.055   \n",
       "min        -35.151   -180.000      1.000      0.000      1.000         25.000   \n",
       "25%        -34.755    -58.683      3.000      2.000      1.000        201.000   \n",
       "50%        -34.641    -58.524      4.000      3.000      2.000        307.000   \n",
       "75%        -34.540    -58.402      5.000      4.000      3.000        589.000   \n",
       "max         85.051    -57.806     26.000     15.000     13.000    169,000.000   \n",
       "RIC          0.215      0.281      2.000      2.000      2.000        388.000   \n",
       "lim_inf    -35.077    -59.104      0.000     -1.000     -2.000       -381.000   \n",
       "lim_sup    -34.218    -57.981      8.000      7.000      6.000      1,171.000   \n",
       "\n",
       "         surface_covered          price  \n",
       "count         16,047.000     20,912.000  \n",
       "mean             217.617    273,552.301  \n",
       "std            1,008.870    264,749.088  \n",
       "min               21.000     10,000.000  \n",
       "25%              110.000    130,000.000  \n",
       "50%              160.000    208,000.000  \n",
       "75%              230.000    330,000.000  \n",
       "max           75,792.000 11,111,111.000  \n",
       "RIC              120.000    200,000.000  \n",
       "lim_inf          -70.000   -170,000.000  \n",
       "lim_sup          410.000    630,000.000  "
      ]
     },
     "execution_count": 111,
     "metadata": {},
     "output_type": "execute_result"
    }
   ],
   "source": [
    "RICdescribe_casa=RICdescribe(df_casa)\n",
    "RICdescribe_casa"
   ]
  },
  {
   "cell_type": "code",
   "execution_count": 112,
   "id": "a77db8bd-6e02-44bc-aa97-f610305f076f",
   "metadata": {},
   "outputs": [],
   "source": [
    "df_casa_nanol=NaN_outliers(df_casa, RICdescribe_casa)"
   ]
  },
  {
   "cell_type": "code",
   "execution_count": 113,
   "id": "09703fb1-5445-4274-8d00-88cac82a4e77",
   "metadata": {},
   "outputs": [
    {
     "name": "stdout",
     "output_type": "stream",
     "text": [
      "El total de NaN en el dataframe es 13787 corresponde al  3.47 % del total de los datos\n",
      "                 Conteo por columnas      %\n",
      "Atributo                                   \n",
      "lat                             1335  6.384\n",
      "lon                             1349  6.451\n",
      "l2                                 0  0.000\n",
      "l3                                 0  0.000\n",
      "rooms                              0  0.000\n",
      "bedrooms                           0  0.000\n",
      "bathrooms                       1327  6.346\n",
      "surface_total                   4911 23.484\n",
      "surface_covered                 4865 23.264\n",
      "price                              0  0.000\n",
      "property_type                      0  0.000\n",
      "                       Conteo      %\n",
      "Numero de NaN en fila               \n",
      "0                       14578 69.711\n",
      "1                         625  2.989\n",
      "2                        4468 21.366\n",
      "3                         834  3.988\n",
      "4                         311  1.487\n",
      "5                          96  0.459\n"
     ]
    }
   ],
   "source": [
    "dfnans(df_casa);"
   ]
  },
  {
   "cell_type": "code",
   "execution_count": 114,
   "id": "a4e1f478-827d-4b13-8940-cf57caf19d79",
   "metadata": {},
   "outputs": [
    {
     "name": "stdout",
     "output_type": "stream",
     "text": [
      "El total de NaN en el dataframe es 18739 corresponde al  4.716 % del total de los datos\n",
      "                 Conteo por columnas      %\n",
      "Atributo                                   \n",
      "lat                             1365  6.527\n",
      "lon                             1886  9.019\n",
      "l2                                 0  0.000\n",
      "l3                                 0  0.000\n",
      "rooms                            757  3.620\n",
      "bedrooms                         139  0.665\n",
      "bathrooms                       1567  7.493\n",
      "surface_total                   6101 29.175\n",
      "surface_covered                 5665 27.090\n",
      "price                           1259  6.020\n",
      "property_type                      0  0.000\n",
      "                       Conteo      %\n",
      "Numero de NaN en fila               \n",
      "0                       11944 57.116\n",
      "1                        2365 11.309\n",
      "2                        4490 21.471\n",
      "3                        1323  6.327\n",
      "4                         571  2.730\n",
      "5                         176  0.842\n",
      "6                          41  0.196\n",
      "7                           1  0.005\n",
      "8                           1  0.005\n"
     ]
    }
   ],
   "source": [
    "dfnans(df_casa_nanol);"
   ]
  },
  {
   "cell_type": "markdown",
   "id": "0da61345-04a8-4fdb-a886-6586248abe46",
   "metadata": {},
   "source": [
    "Al hacer las sumatorias de los Valores NaN antes de convertir los valores atipicos y despues de convertirlos se obtuvo que el total de la suma de los NaN por categorias Departamento, PH y Casa son 134076, mientras que sin discriminar por categorias es de 146699, esto nos muestra que es ventajoso discriminar segun el tipo de propiedad."
   ]
  },
  {
   "cell_type": "markdown",
   "id": "19cd0c1c-f2c2-4e60-a31a-481afd0585bf",
   "metadata": {},
   "source": [
    "#### Unificacion y eliminacion por filas"
   ]
  },
  {
   "cell_type": "markdown",
   "id": "96485e44-26bc-47a3-b6b7-8815f5839cc1",
   "metadata": {},
   "source": [
    "Ahora se deben unificar los dataframes, que estaban separados por tipo de inmueble."
   ]
  },
  {
   "cell_type": "code",
   "execution_count": 115,
   "id": "8d2b2654-51d7-443f-9994-a322aa62bdfe",
   "metadata": {},
   "outputs": [
    {
     "name": "stdout",
     "output_type": "stream",
     "text": [
      "(141547, 11)\n"
     ]
    }
   ],
   "source": [
    "#El data frame resultante de la union sera df_nol (dataframe no outliers)\n",
    "df_nol=df_depa_nanol.copy()\n",
    "df_nol=df_nol.append(df_PH_nanol)\n",
    "df_nol=df_nol.append(df_casa_nanol)\n",
    "df_nol.sort_index(inplace=True)\n",
    "#df_nol\n",
    "print(df_nol.shape)"
   ]
  },
  {
   "cell_type": "markdown",
   "id": "ae2e407e-cf65-435a-89c1-0c47493abfc7",
   "metadata": {},
   "source": [
    "Ahora evaluamos la cantidad de NaN en este dataframe que contiene todos los tipos de propiedad:"
   ]
  },
  {
   "cell_type": "code",
   "execution_count": 116,
   "id": "8c2dcba8-fd64-443b-82dd-b766061055a3",
   "metadata": {},
   "outputs": [
    {
     "name": "stdout",
     "output_type": "stream",
     "text": [
      "El total de NaN en el dataframe es 134076 corresponde al  4.985 % del total de los datos\n",
      "                 Conteo por columnas      %\n",
      "Atributo                                   \n",
      "lat                            27605 19.502\n",
      "lon                            21817 15.413\n",
      "l2                                 0  0.000\n",
      "l3                                 0  0.000\n",
      "rooms                           7742  5.470\n",
      "bedrooms                        4615  3.260\n",
      "bathrooms                       7803  5.513\n",
      "surface_total                  27206 19.220\n",
      "surface_covered                26821 18.948\n",
      "price                          10467  7.395\n",
      "property_type                      0  0.000\n",
      "                       Conteo      %\n",
      "Numero de NaN en fila               \n",
      "0                       81127 57.315\n",
      "1                       16006 11.308\n",
      "2                       28455 20.103\n",
      "3                        8139  5.750\n",
      "4                        4203  2.969\n",
      "5                        2183  1.542\n",
      "6                        1108  0.783\n",
      "7                         240  0.170\n",
      "8                          86  0.061\n"
     ]
    }
   ],
   "source": [
    "dfnans(df_nol);"
   ]
  },
  {
   "cell_type": "markdown",
   "id": "9b804d84-8876-4229-b89b-bfe1d5644eae",
   "metadata": {},
   "source": [
    "Podemos ver que hay 86 filas cuyos valores numericos son todos NaN, considero que las filas con mas de 3 NaN deben ser eliminadas del dataframe esto porque tenian informacion faltante desde un principio y/o los valores que si tenian eran atipicos. Las filas que tienen mas de 3 NaN repreentan solo el 5.5% del total de las filas."
   ]
  },
  {
   "cell_type": "code",
   "execution_count": 117,
   "id": "93f3bbb0-1ec1-4283-b6e0-3df8ee154b3c",
   "metadata": {},
   "outputs": [],
   "source": [
    "df_nol.dropna(thresh=df_nol.shape[1]-3,inplace=True)"
   ]
  },
  {
   "cell_type": "markdown",
   "id": "d4b4fe2c-df19-4802-8afa-efe3ba25877c",
   "metadata": {},
   "source": [
    "Revisemos cuantos nans quedaron en el data frame:"
   ]
  },
  {
   "cell_type": "code",
   "execution_count": 118,
   "id": "3c75e129-facd-4355-8cd6-2d4552a22239",
   "metadata": {},
   "outputs": [
    {
     "name": "stdout",
     "output_type": "stream",
     "text": [
      "El total de NaN en el dataframe es 97333 corresponde al  3.831 % del total de los datos\n",
      "                 Conteo por columnas      %\n",
      "Atributo                                   \n",
      "lat                            23962 17.919\n",
      "lon                            18454 13.800\n",
      "l2                                 0  0.000\n",
      "l3                                 0  0.000\n",
      "rooms                           3420  2.557\n",
      "bedrooms                        1528  1.143\n",
      "bathrooms                       4618  3.453\n",
      "surface_total                  19969 14.933\n",
      "surface_covered                19611 14.665\n",
      "price                           5771  4.316\n",
      "property_type                      0  0.000\n",
      "                       Conteo      %\n",
      "Numero de NaN en fila               \n",
      "0                       81127 60.666\n",
      "1                       16006 11.969\n",
      "2                       28455 21.278\n",
      "3                        8139  6.086\n"
     ]
    }
   ],
   "source": [
    "dfnans(df_nol);"
   ]
  },
  {
   "cell_type": "code",
   "execution_count": 119,
   "id": "44ff9ce6-52c1-470e-ab12-e4dc7e80e20a",
   "metadata": {},
   "outputs": [
    {
     "name": "stdout",
     "output_type": "stream",
     "text": [
      "El dataframe tiene en este momento  133727 filas.\n"
     ]
    }
   ],
   "source": [
    "print('El dataframe tiene en este momento ',len(df_nol),'filas.')"
   ]
  },
  {
   "cell_type": "code",
   "execution_count": 120,
   "id": "d6686f95-be30-4627-bb2f-10191a77c288",
   "metadata": {},
   "outputs": [],
   "source": [
    "df_nol.reset_index(inplace=True,drop=True)\n",
    "#df_nol"
   ]
  },
  {
   "cell_type": "markdown",
   "id": "1fd51969-2eec-46d3-889a-954db20515c6",
   "metadata": {
    "tags": [],
    "toc-hr-collapsed": true
   },
   "source": [
    "### Encoding\n",
    "Revisando la documentacion sobre encoders y de imputacion de scikitlearn me he dado cuenta que los atributos categoricos no pueden aportar su informacion para hacer imputacion debido a que los imputadores solo pueden imputar en base a los atributos numericos, por esta razon se decidio aplicar una codificacion (encoding) a los atributos categoricos antes de hacer la imputacion de valores faltantes.\n",
    "\n",
    "En los atributos categoricos no hay ningun dato faltante por lo que a pesar de que se codifiquen no se tendra problema de obtener valores float al hacer imputacion."
   ]
  },
  {
   "cell_type": "code",
   "execution_count": 121,
   "id": "d30826ea-fdb0-40cd-bde3-e5a39bba601b",
   "metadata": {
    "tags": []
   },
   "outputs": [],
   "source": [
    "from sklearn.preprocessing import OrdinalEncoder"
   ]
  },
  {
   "cell_type": "markdown",
   "id": "2e580d51-72af-4cdf-83ac-91161363b2ed",
   "metadata": {},
   "source": [
    "#### Para zonas (l2)"
   ]
  },
  {
   "cell_type": "markdown",
   "id": "faa7ff6f-f3aa-4926-ab57-ff6118bf3216",
   "metadata": {},
   "source": [
    "Acontinuacion se hace la imputacion para la categoria l2 (zonas de Buenos Aires)"
   ]
  },
  {
   "cell_type": "code",
   "execution_count": 122,
   "id": "09d4e693-b31f-45ee-8dd6-f1c6400deae5",
   "metadata": {},
   "outputs": [],
   "source": [
    "encl2 = OrdinalEncoder()\n",
    "df_nol['l2']=encl2.fit_transform(df_nol['l2'].to_numpy().reshape(-1,1))"
   ]
  },
  {
   "cell_type": "code",
   "execution_count": 123,
   "id": "c289839b-3246-49f4-a08b-7764e87e8f41",
   "metadata": {},
   "outputs": [
    {
     "data": {
      "text/plain": [
       "[array(['Bs.As. G.B.A. Zona Norte', 'Bs.As. G.B.A. Zona Oeste',\n",
       "        'Bs.As. G.B.A. Zona Sur', 'Capital Federal'], dtype=object)]"
      ]
     },
     "execution_count": 123,
     "metadata": {},
     "output_type": "execute_result"
    }
   ],
   "source": [
    "encl2.categories_"
   ]
  },
  {
   "cell_type": "markdown",
   "id": "3e7d374d-ffd6-401d-82d4-0c320d0403d9",
   "metadata": {},
   "source": [
    "#### Para barrios (l3)"
   ]
  },
  {
   "cell_type": "markdown",
   "id": "bf54c9ac-af19-4e69-8d63-37599748475b",
   "metadata": {},
   "source": [
    "Acontinuacion se hace la imputacion para la categoria l3 (barrios de Buenos Aires)"
   ]
  },
  {
   "cell_type": "code",
   "execution_count": 124,
   "id": "0dc35e73-442c-4450-8dd7-a7fef6d21ae2",
   "metadata": {},
   "outputs": [],
   "source": [
    "encl3 = OrdinalEncoder()\n",
    "df_nol['l3']=encl3.fit_transform(df_nol['l3'].to_numpy().reshape(-1,1))"
   ]
  },
  {
   "cell_type": "code",
   "execution_count": 125,
   "id": "854e01dd-85cc-4a87-95fe-bf577c6cdad1",
   "metadata": {},
   "outputs": [
    {
     "data": {
      "text/plain": [
       "[array(['Abasto', 'Agronomía', 'Almagro', 'Almirante Brown', 'Avellaneda',\n",
       "        'Balvanera', 'Barracas', 'Barrio Norte', 'Belgrano', 'Berazategui',\n",
       "        'Boca', 'Boedo', 'Caballito', 'Catalinas', 'Cañuelas',\n",
       "        'Centro / Microcentro', 'Chacarita', 'Coghlan', 'Colegiales',\n",
       "        'Congreso', 'Constitución', 'Escobar', 'Esteban Echeverría',\n",
       "        'Ezeiza', 'Florencio Varela', 'Flores', 'Floresta',\n",
       "        'General Rodríguez', 'General San Martín', 'Hurlingham',\n",
       "        'Ituzaingó', 'José C Paz', 'La Matanza', 'La Plata', 'Lanús',\n",
       "        'Las Cañitas', 'Liniers', 'Lomas de Zamora', 'Malvinas Argentinas',\n",
       "        'Marcos Paz', 'Mataderos', 'Merlo', 'Monserrat', 'Monte Castro',\n",
       "        'Moreno', 'Morón', 'Nuñez', 'Once', 'Palermo', 'Parque Avellaneda',\n",
       "        'Parque Centenario', 'Parque Chacabuco', 'Parque Chas',\n",
       "        'Parque Patricios', 'Paternal', 'Pilar', 'Pompeya',\n",
       "        'Presidente Perón', 'Puerto Madero', 'Quilmes', 'Recoleta',\n",
       "        'Retiro', 'Saavedra', 'San Cristobal', 'San Fernando',\n",
       "        'San Isidro', 'San Miguel', 'San Nicolás', 'San Telmo',\n",
       "        'San Vicente', 'Tigre', 'Tres de Febrero', 'Tribunales',\n",
       "        'Velez Sarsfield', 'Versalles', 'Vicente López', 'Villa Crespo',\n",
       "        'Villa Devoto', 'Villa General Mitre', 'Villa Lugano',\n",
       "        'Villa Luro', 'Villa Ortuzar', 'Villa Pueyrredón', 'Villa Real',\n",
       "        'Villa Riachuelo', 'Villa Santa Rita', 'Villa Soldati',\n",
       "        'Villa Urquiza', 'Villa del Parque'], dtype=object)]"
      ]
     },
     "execution_count": 125,
     "metadata": {},
     "output_type": "execute_result"
    }
   ],
   "source": [
    "encl3.categories_"
   ]
  },
  {
   "cell_type": "markdown",
   "id": "c18e8747-42bc-4cb1-9214-93244b6242e9",
   "metadata": {
    "tags": []
   },
   "source": [
    "#### Para tipo de propiedad"
   ]
  },
  {
   "cell_type": "markdown",
   "id": "e4789eb4-71af-429c-95d8-2a2744bc4270",
   "metadata": {},
   "source": [
    "Acontinuacion se hace la imputacion para la categoria property_type (tipo de inmueble)"
   ]
  },
  {
   "cell_type": "code",
   "execution_count": 126,
   "id": "fb49d431-e75e-4f00-9650-472292a26f22",
   "metadata": {},
   "outputs": [],
   "source": [
    "enc_PT = OrdinalEncoder()\n",
    "df_nol['property_type']=enc_PT.fit_transform(df_nol['property_type'].to_numpy().reshape(-1,1))"
   ]
  },
  {
   "cell_type": "code",
   "execution_count": 127,
   "id": "27ad48aa-10c2-4efe-ab54-9f5902935da6",
   "metadata": {},
   "outputs": [
    {
     "data": {
      "text/plain": [
       "[array(['Casa', 'Departamento', 'PH'], dtype=object)]"
      ]
     },
     "execution_count": 127,
     "metadata": {},
     "output_type": "execute_result"
    }
   ],
   "source": [
    "enc_PT.categories_"
   ]
  },
  {
   "cell_type": "code",
   "execution_count": 128,
   "id": "64c99cc1-29e6-4ed7-9d82-a8fc7bfe8a46",
   "metadata": {},
   "outputs": [
    {
     "data": {
      "text/html": [
       "<div>\n",
       "<style scoped>\n",
       "    .dataframe tbody tr th:only-of-type {\n",
       "        vertical-align: middle;\n",
       "    }\n",
       "\n",
       "    .dataframe tbody tr th {\n",
       "        vertical-align: top;\n",
       "    }\n",
       "\n",
       "    .dataframe thead th {\n",
       "        text-align: right;\n",
       "    }\n",
       "</style>\n",
       "<table border=\"1\" class=\"dataframe\">\n",
       "  <thead>\n",
       "    <tr style=\"text-align: right;\">\n",
       "      <th></th>\n",
       "      <th>lat</th>\n",
       "      <th>lon</th>\n",
       "      <th>l2</th>\n",
       "      <th>l3</th>\n",
       "      <th>rooms</th>\n",
       "      <th>bedrooms</th>\n",
       "      <th>bathrooms</th>\n",
       "      <th>surface_total</th>\n",
       "      <th>surface_covered</th>\n",
       "      <th>price</th>\n",
       "      <th>property_type</th>\n",
       "    </tr>\n",
       "  </thead>\n",
       "  <tbody>\n",
       "    <tr>\n",
       "      <th>0</th>\n",
       "      <td>-34.606</td>\n",
       "      <td>-58.385</td>\n",
       "      <td>3.000</td>\n",
       "      <td>63.000</td>\n",
       "      <td>NaN</td>\n",
       "      <td>NaN</td>\n",
       "      <td>2.000</td>\n",
       "      <td>140.000</td>\n",
       "      <td>140.000</td>\n",
       "      <td>153,000.000</td>\n",
       "      <td>1.000</td>\n",
       "    </tr>\n",
       "    <tr>\n",
       "      <th>1</th>\n",
       "      <td>-34.624</td>\n",
       "      <td>-58.412</td>\n",
       "      <td>3.000</td>\n",
       "      <td>11.000</td>\n",
       "      <td>2.000</td>\n",
       "      <td>1.000</td>\n",
       "      <td>2.000</td>\n",
       "      <td>70.000</td>\n",
       "      <td>58.000</td>\n",
       "      <td>159,000.000</td>\n",
       "      <td>2.000</td>\n",
       "    </tr>\n",
       "    <tr>\n",
       "      <th>2</th>\n",
       "      <td>-34.594</td>\n",
       "      <td>-58.427</td>\n",
       "      <td>3.000</td>\n",
       "      <td>48.000</td>\n",
       "      <td>2.000</td>\n",
       "      <td>1.000</td>\n",
       "      <td>1.000</td>\n",
       "      <td>45.000</td>\n",
       "      <td>45.000</td>\n",
       "      <td>125,000.000</td>\n",
       "      <td>2.000</td>\n",
       "    </tr>\n",
       "    <tr>\n",
       "      <th>3</th>\n",
       "      <td>-34.581</td>\n",
       "      <td>-58.437</td>\n",
       "      <td>3.000</td>\n",
       "      <td>48.000</td>\n",
       "      <td>2.000</td>\n",
       "      <td>1.000</td>\n",
       "      <td>1.000</td>\n",
       "      <td>85.000</td>\n",
       "      <td>50.000</td>\n",
       "      <td>295,000.000</td>\n",
       "      <td>2.000</td>\n",
       "    </tr>\n",
       "    <tr>\n",
       "      <th>4</th>\n",
       "      <td>NaN</td>\n",
       "      <td>NaN</td>\n",
       "      <td>2.000</td>\n",
       "      <td>33.000</td>\n",
       "      <td>2.000</td>\n",
       "      <td>1.000</td>\n",
       "      <td>1.000</td>\n",
       "      <td>50.000</td>\n",
       "      <td>35.000</td>\n",
       "      <td>40,000.000</td>\n",
       "      <td>2.000</td>\n",
       "    </tr>\n",
       "    <tr>\n",
       "      <th>...</th>\n",
       "      <td>...</td>\n",
       "      <td>...</td>\n",
       "      <td>...</td>\n",
       "      <td>...</td>\n",
       "      <td>...</td>\n",
       "      <td>...</td>\n",
       "      <td>...</td>\n",
       "      <td>...</td>\n",
       "      <td>...</td>\n",
       "      <td>...</td>\n",
       "      <td>...</td>\n",
       "    </tr>\n",
       "    <tr>\n",
       "      <th>133722</th>\n",
       "      <td>NaN</td>\n",
       "      <td>NaN</td>\n",
       "      <td>2.000</td>\n",
       "      <td>9.000</td>\n",
       "      <td>2.000</td>\n",
       "      <td>1.000</td>\n",
       "      <td>1.000</td>\n",
       "      <td>54.000</td>\n",
       "      <td>48.000</td>\n",
       "      <td>165,000.000</td>\n",
       "      <td>1.000</td>\n",
       "    </tr>\n",
       "    <tr>\n",
       "      <th>133723</th>\n",
       "      <td>NaN</td>\n",
       "      <td>NaN</td>\n",
       "      <td>0.000</td>\n",
       "      <td>55.000</td>\n",
       "      <td>4.000</td>\n",
       "      <td>3.000</td>\n",
       "      <td>2.000</td>\n",
       "      <td>164.000</td>\n",
       "      <td>90.000</td>\n",
       "      <td>130,000.000</td>\n",
       "      <td>1.000</td>\n",
       "    </tr>\n",
       "    <tr>\n",
       "      <th>133724</th>\n",
       "      <td>NaN</td>\n",
       "      <td>NaN</td>\n",
       "      <td>0.000</td>\n",
       "      <td>55.000</td>\n",
       "      <td>1.000</td>\n",
       "      <td>1.000</td>\n",
       "      <td>1.000</td>\n",
       "      <td>50.000</td>\n",
       "      <td>35.000</td>\n",
       "      <td>73,000.000</td>\n",
       "      <td>1.000</td>\n",
       "    </tr>\n",
       "    <tr>\n",
       "      <th>133725</th>\n",
       "      <td>NaN</td>\n",
       "      <td>NaN</td>\n",
       "      <td>0.000</td>\n",
       "      <td>55.000</td>\n",
       "      <td>2.000</td>\n",
       "      <td>1.000</td>\n",
       "      <td>1.000</td>\n",
       "      <td>38.000</td>\n",
       "      <td>38.000</td>\n",
       "      <td>68,000.000</td>\n",
       "      <td>1.000</td>\n",
       "    </tr>\n",
       "    <tr>\n",
       "      <th>133726</th>\n",
       "      <td>NaN</td>\n",
       "      <td>NaN</td>\n",
       "      <td>0.000</td>\n",
       "      <td>55.000</td>\n",
       "      <td>3.000</td>\n",
       "      <td>2.000</td>\n",
       "      <td>1.000</td>\n",
       "      <td>75.000</td>\n",
       "      <td>75.000</td>\n",
       "      <td>98,000.000</td>\n",
       "      <td>1.000</td>\n",
       "    </tr>\n",
       "  </tbody>\n",
       "</table>\n",
       "<p>133727 rows × 11 columns</p>\n",
       "</div>"
      ],
      "text/plain": [
       "           lat     lon    l2     l3  rooms  bedrooms  bathrooms  \\\n",
       "0      -34.606 -58.385 3.000 63.000    NaN       NaN      2.000   \n",
       "1      -34.624 -58.412 3.000 11.000  2.000     1.000      2.000   \n",
       "2      -34.594 -58.427 3.000 48.000  2.000     1.000      1.000   \n",
       "3      -34.581 -58.437 3.000 48.000  2.000     1.000      1.000   \n",
       "4          NaN     NaN 2.000 33.000  2.000     1.000      1.000   \n",
       "...        ...     ...   ...    ...    ...       ...        ...   \n",
       "133722     NaN     NaN 2.000  9.000  2.000     1.000      1.000   \n",
       "133723     NaN     NaN 0.000 55.000  4.000     3.000      2.000   \n",
       "133724     NaN     NaN 0.000 55.000  1.000     1.000      1.000   \n",
       "133725     NaN     NaN 0.000 55.000  2.000     1.000      1.000   \n",
       "133726     NaN     NaN 0.000 55.000  3.000     2.000      1.000   \n",
       "\n",
       "        surface_total  surface_covered       price  property_type  \n",
       "0             140.000          140.000 153,000.000          1.000  \n",
       "1              70.000           58.000 159,000.000          2.000  \n",
       "2              45.000           45.000 125,000.000          2.000  \n",
       "3              85.000           50.000 295,000.000          2.000  \n",
       "4              50.000           35.000  40,000.000          2.000  \n",
       "...               ...              ...         ...            ...  \n",
       "133722         54.000           48.000 165,000.000          1.000  \n",
       "133723        164.000           90.000 130,000.000          1.000  \n",
       "133724         50.000           35.000  73,000.000          1.000  \n",
       "133725         38.000           38.000  68,000.000          1.000  \n",
       "133726         75.000           75.000  98,000.000          1.000  \n",
       "\n",
       "[133727 rows x 11 columns]"
      ]
     },
     "execution_count": 128,
     "metadata": {},
     "output_type": "execute_result"
    }
   ],
   "source": [
    "df_nol"
   ]
  },
  {
   "cell_type": "markdown",
   "id": "c53f6f54",
   "metadata": {},
   "source": [
    "### Valores faltantes e imputacion\n",
    "Luego de la asignacion de NaN a los outliers la cantidad de valores faltantes aumentara significativamente, para ver cuantos son los valores faltantes en este punto procederemos a usar nuevamente la funcion dfnans."
   ]
  },
  {
   "cell_type": "code",
   "execution_count": 325,
   "id": "43b27134-4a1f-4dab-8666-598f6b70ea04",
   "metadata": {},
   "outputs": [
    {
     "name": "stdout",
     "output_type": "stream",
     "text": [
      "El total de NaN en el dataframe es 97333 corresponde al  3.831 % del total de los datos\n"
     ]
    },
    {
     "data": {
      "text/html": [
       "<div>\n",
       "<style scoped>\n",
       "    .dataframe tbody tr th:only-of-type {\n",
       "        vertical-align: middle;\n",
       "    }\n",
       "\n",
       "    .dataframe tbody tr th {\n",
       "        vertical-align: top;\n",
       "    }\n",
       "\n",
       "    .dataframe thead th {\n",
       "        text-align: right;\n",
       "    }\n",
       "</style>\n",
       "<table border=\"1\" class=\"dataframe\">\n",
       "  <thead>\n",
       "    <tr style=\"text-align: right;\">\n",
       "      <th></th>\n",
       "      <th>Conteo por columnas</th>\n",
       "      <th>%</th>\n",
       "    </tr>\n",
       "    <tr>\n",
       "      <th>Atributo</th>\n",
       "      <th></th>\n",
       "      <th></th>\n",
       "    </tr>\n",
       "  </thead>\n",
       "  <tbody>\n",
       "    <tr>\n",
       "      <th>lat</th>\n",
       "      <td>23962</td>\n",
       "      <td>17.919</td>\n",
       "    </tr>\n",
       "    <tr>\n",
       "      <th>lon</th>\n",
       "      <td>18454</td>\n",
       "      <td>13.800</td>\n",
       "    </tr>\n",
       "    <tr>\n",
       "      <th>l2</th>\n",
       "      <td>0</td>\n",
       "      <td>0.000</td>\n",
       "    </tr>\n",
       "    <tr>\n",
       "      <th>l3</th>\n",
       "      <td>0</td>\n",
       "      <td>0.000</td>\n",
       "    </tr>\n",
       "    <tr>\n",
       "      <th>rooms</th>\n",
       "      <td>3420</td>\n",
       "      <td>2.557</td>\n",
       "    </tr>\n",
       "    <tr>\n",
       "      <th>bedrooms</th>\n",
       "      <td>1528</td>\n",
       "      <td>1.143</td>\n",
       "    </tr>\n",
       "    <tr>\n",
       "      <th>bathrooms</th>\n",
       "      <td>4618</td>\n",
       "      <td>3.453</td>\n",
       "    </tr>\n",
       "    <tr>\n",
       "      <th>surface_total</th>\n",
       "      <td>19969</td>\n",
       "      <td>14.933</td>\n",
       "    </tr>\n",
       "    <tr>\n",
       "      <th>surface_covered</th>\n",
       "      <td>19611</td>\n",
       "      <td>14.665</td>\n",
       "    </tr>\n",
       "    <tr>\n",
       "      <th>price</th>\n",
       "      <td>5771</td>\n",
       "      <td>4.316</td>\n",
       "    </tr>\n",
       "    <tr>\n",
       "      <th>property_type</th>\n",
       "      <td>0</td>\n",
       "      <td>0.000</td>\n",
       "    </tr>\n",
       "  </tbody>\n",
       "</table>\n",
       "</div>"
      ],
      "text/plain": [
       "                 Conteo por columnas      %\n",
       "Atributo                                   \n",
       "lat                            23962 17.919\n",
       "lon                            18454 13.800\n",
       "l2                                 0  0.000\n",
       "l3                                 0  0.000\n",
       "rooms                           3420  2.557\n",
       "bedrooms                        1528  1.143\n",
       "bathrooms                       4618  3.453\n",
       "surface_total                  19969 14.933\n",
       "surface_covered                19611 14.665\n",
       "price                           5771  4.316\n",
       "property_type                      0  0.000"
      ]
     },
     "execution_count": 325,
     "metadata": {},
     "output_type": "execute_result"
    }
   ],
   "source": [
    "dfnans(df_nol,'n')[1]"
   ]
  },
  {
   "cell_type": "markdown",
   "id": "e1a6c463",
   "metadata": {},
   "source": [
    "Podemos ver que los atributos de latitud porcentaje de valores faltantes es aproximadamente 18% y para longitud 14%, para rooms, bedrooms y bathrooms es en promedio 2.4%, mientras que para surface_total y surface_covered esta es aproximadamente 15%, el atributo price, que es el que buscamos predecir tiene un 4.3% de valores faltantes.\n",
    "\n",
    "Es importante recordar que muchos de estos valores faltantes aparecieron al aplicar la funcion NaN_outliers que les asignana NaN a los valores que estuvieran por fuera de los intervalos de validez y dado que en este caso se busca solo determinar que tipo de valores faltantes se tienen (MCAR, MAR o MCAR) se trabajara con el dataframe original de properati\n",
    "\n",
    "Veamos como es la distribucion de valores fatantes en el dataframe original"
   ]
  },
  {
   "cell_type": "code",
   "execution_count": 326,
   "id": "5bee4c15-9a18-40d1-8a05-eacb5d12f7b5",
   "metadata": {},
   "outputs": [
    {
     "name": "stdout",
     "output_type": "stream",
     "text": [
      "El total de NaN en el dataframe es 67982 corresponde al  2.44 % del total de los datos\n"
     ]
    },
    {
     "data": {
      "text/html": [
       "<div>\n",
       "<style scoped>\n",
       "    .dataframe tbody tr th:only-of-type {\n",
       "        vertical-align: middle;\n",
       "    }\n",
       "\n",
       "    .dataframe tbody tr th {\n",
       "        vertical-align: top;\n",
       "    }\n",
       "\n",
       "    .dataframe thead th {\n",
       "        text-align: right;\n",
       "    }\n",
       "</style>\n",
       "<table border=\"1\" class=\"dataframe\">\n",
       "  <thead>\n",
       "    <tr style=\"text-align: right;\">\n",
       "      <th></th>\n",
       "      <th>Conteo por columnas</th>\n",
       "      <th>%</th>\n",
       "    </tr>\n",
       "    <tr>\n",
       "      <th>Atributo</th>\n",
       "      <th></th>\n",
       "      <th></th>\n",
       "    </tr>\n",
       "  </thead>\n",
       "  <tbody>\n",
       "    <tr>\n",
       "      <th>start_date</th>\n",
       "      <td>0</td>\n",
       "      <td>0.000</td>\n",
       "    </tr>\n",
       "    <tr>\n",
       "      <th>end_date</th>\n",
       "      <td>0</td>\n",
       "      <td>0.000</td>\n",
       "    </tr>\n",
       "    <tr>\n",
       "      <th>created_on</th>\n",
       "      <td>0</td>\n",
       "      <td>0.000</td>\n",
       "    </tr>\n",
       "    <tr>\n",
       "      <th>lat</th>\n",
       "      <td>9925</td>\n",
       "      <td>6.767</td>\n",
       "    </tr>\n",
       "    <tr>\n",
       "      <th>lon</th>\n",
       "      <td>9959</td>\n",
       "      <td>6.791</td>\n",
       "    </tr>\n",
       "    <tr>\n",
       "      <th>l1</th>\n",
       "      <td>0</td>\n",
       "      <td>0.000</td>\n",
       "    </tr>\n",
       "    <tr>\n",
       "      <th>l2</th>\n",
       "      <td>0</td>\n",
       "      <td>0.000</td>\n",
       "    </tr>\n",
       "    <tr>\n",
       "      <th>l3</th>\n",
       "      <td>0</td>\n",
       "      <td>0.000</td>\n",
       "    </tr>\n",
       "    <tr>\n",
       "      <th>rooms</th>\n",
       "      <td>0</td>\n",
       "      <td>0.000</td>\n",
       "    </tr>\n",
       "    <tr>\n",
       "      <th>bedrooms</th>\n",
       "      <td>0</td>\n",
       "      <td>0.000</td>\n",
       "    </tr>\n",
       "    <tr>\n",
       "      <th>bathrooms</th>\n",
       "      <td>5957</td>\n",
       "      <td>4.062</td>\n",
       "    </tr>\n",
       "    <tr>\n",
       "      <th>surface_total</th>\n",
       "      <td>20527</td>\n",
       "      <td>13.996</td>\n",
       "    </tr>\n",
       "    <tr>\n",
       "      <th>surface_covered</th>\n",
       "      <td>21614</td>\n",
       "      <td>14.737</td>\n",
       "    </tr>\n",
       "    <tr>\n",
       "      <th>price</th>\n",
       "      <td>0</td>\n",
       "      <td>0.000</td>\n",
       "    </tr>\n",
       "    <tr>\n",
       "      <th>currency</th>\n",
       "      <td>0</td>\n",
       "      <td>0.000</td>\n",
       "    </tr>\n",
       "    <tr>\n",
       "      <th>title</th>\n",
       "      <td>0</td>\n",
       "      <td>0.000</td>\n",
       "    </tr>\n",
       "    <tr>\n",
       "      <th>description</th>\n",
       "      <td>0</td>\n",
       "      <td>0.000</td>\n",
       "    </tr>\n",
       "    <tr>\n",
       "      <th>property_type</th>\n",
       "      <td>0</td>\n",
       "      <td>0.000</td>\n",
       "    </tr>\n",
       "    <tr>\n",
       "      <th>operation_type</th>\n",
       "      <td>0</td>\n",
       "      <td>0.000</td>\n",
       "    </tr>\n",
       "  </tbody>\n",
       "</table>\n",
       "</div>"
      ],
      "text/plain": [
       "                 Conteo por columnas      %\n",
       "Atributo                                   \n",
       "start_date                         0  0.000\n",
       "end_date                           0  0.000\n",
       "created_on                         0  0.000\n",
       "lat                             9925  6.767\n",
       "lon                             9959  6.791\n",
       "l1                                 0  0.000\n",
       "l2                                 0  0.000\n",
       "l3                                 0  0.000\n",
       "rooms                              0  0.000\n",
       "bedrooms                           0  0.000\n",
       "bathrooms                       5957  4.062\n",
       "surface_total                  20527 13.996\n",
       "surface_covered                21614 14.737\n",
       "price                              0  0.000\n",
       "currency                           0  0.000\n",
       "title                              0  0.000\n",
       "description                        0  0.000\n",
       "property_type                      0  0.000\n",
       "operation_type                     0  0.000"
      ]
     },
     "execution_count": 326,
     "metadata": {},
     "output_type": "execute_result"
    }
   ],
   "source": [
    "dfnans(df_properati,'n')[1]"
   ]
  },
  {
   "cell_type": "markdown",
   "id": "0a78d7c1-3228-4dbc-98da-ce3a5f31bc59",
   "metadata": {},
   "source": [
    "Solo los atributos lat, lon, bathrooms, surface_covered y surface_total tienen valores faltantes."
   ]
  },
  {
   "cell_type": "markdown",
   "id": "25e5ac00-dcde-4364-839d-656ba3231423",
   "metadata": {
    "toc-hr-collapsed": true
   },
   "source": [
    "#### MAR"
   ]
  },
  {
   "cell_type": "markdown",
   "id": "bfc903cd-d92f-415d-b11e-7285c89fb2fe",
   "metadata": {},
   "source": [
    "A continuacion buscaremos si hay relacion entre los atributos categoricos l2, l3 y property_type y los atributos que tienen valores faltantes lat, lon, bathrooms, surface_total y surface_covered."
   ]
  },
  {
   "cell_type": "markdown",
   "id": "e50da05c-2c0f-4c81-92b4-44caa2e70ea2",
   "metadata": {},
   "source": [
    "La funcion seraMAR se creo para determinar si los datos faltantes son del tipo MAR (Missing At Random) en este caso la falta de datos en alguna de la varibles en particular depende de las demas variables medidas"
   ]
  },
  {
   "cell_type": "code",
   "execution_count": 342,
   "id": "e32ee3ce-ca19-415c-929c-e4ca3e4622f1",
   "metadata": {},
   "outputs": [],
   "source": [
    "def seraMAR (df,atr,atr_nan,code):\n",
    "    j={}\n",
    "    \n",
    "    j[atr]=df.surface_total.isnull().groupby([df[atr]]).sum().astype(int).reset_index(name='NaN_surface_total')[atr]\n",
    "    #print(j)\n",
    "    for i in range(len(atr_nan)):\n",
    "        j[atr_nan[i]]=df[atr_nan[i]].isnull().groupby([df[atr]]).sum().astype(int).reset_index(name=atr_nan[i])[atr_nan[i]]\n",
    "        j[atr_nan[i]+'%']=j[atr_nan[i]]*100/j[atr_nan[i]].sum()\n",
    "   \n",
    "    count=df[atr].value_counts()\n",
    "    MAR=pd.DataFrame(j)\n",
    "    MAR=MAR.set_index(atr).join(count)\n",
    "    MAR[atr+'%']=MAR[atr]*100/MAR[atr].sum()\n",
    "    \n",
    "    if code=='porc':\n",
    "    #Se presentan solo las columnas de porcentaje de nans:\n",
    "        lista=list(range(1,2*len(atr_nan)+2,2))\n",
    "        lis=[*lista[-1:],*lista[:-1]]\n",
    "    if code=='todo':\n",
    "    #Se presentan las columnas de conteo de nans y sus porcentajes:\n",
    "        lista=list(range(2*len(atr_nan)+2))\n",
    "        lis=[*lista[-2:],*lista[:-2]]\n",
    "        \n",
    "    MAR=MAR.iloc[:,lis].sort_values(by=[atr+'%'],ascending=False)\n",
    "\n",
    "    return MAR"
   ]
  },
  {
   "cell_type": "code",
   "execution_count": 343,
   "id": "04d7da80-9d28-4366-abbf-abf23ef07ee8",
   "metadata": {},
   "outputs": [],
   "source": [
    "atr_nan=['lat','lon','bathrooms','surface_total','surface_covered']"
   ]
  },
  {
   "cell_type": "markdown",
   "id": "8c8e3214-af1d-4d08-8c34-9fbbcf9352c8",
   "metadata": {},
   "source": [
    "##### MAR l2"
   ]
  },
  {
   "cell_type": "markdown",
   "id": "fd7183d0-1573-4435-bb20-5e30856da8a2",
   "metadata": {
    "tags": []
   },
   "source": [
    "En la siguiente tabla se puede comparar los porcentajes de valores faltantes por categoria l2 con respecto a los porcentajes del total de datos que hay en cada categoria de l2 (primer columna)"
   ]
  },
  {
   "cell_type": "code",
   "execution_count": 344,
   "id": "c2a15bc2-1e7d-444f-8d77-4c03b5b0515b",
   "metadata": {},
   "outputs": [
    {
     "data": {
      "text/html": [
       "<div>\n",
       "<style scoped>\n",
       "    .dataframe tbody tr th:only-of-type {\n",
       "        vertical-align: middle;\n",
       "    }\n",
       "\n",
       "    .dataframe tbody tr th {\n",
       "        vertical-align: top;\n",
       "    }\n",
       "\n",
       "    .dataframe thead th {\n",
       "        text-align: right;\n",
       "    }\n",
       "</style>\n",
       "<table border=\"1\" class=\"dataframe\">\n",
       "  <thead>\n",
       "    <tr style=\"text-align: right;\">\n",
       "      <th></th>\n",
       "      <th>l2%</th>\n",
       "      <th>lat%</th>\n",
       "      <th>lon%</th>\n",
       "      <th>bathrooms%</th>\n",
       "      <th>surface_total%</th>\n",
       "      <th>surface_covered%</th>\n",
       "    </tr>\n",
       "    <tr>\n",
       "      <th>l2</th>\n",
       "      <th></th>\n",
       "      <th></th>\n",
       "      <th></th>\n",
       "      <th></th>\n",
       "      <th></th>\n",
       "      <th></th>\n",
       "    </tr>\n",
       "  </thead>\n",
       "  <tbody>\n",
       "    <tr>\n",
       "      <th>Capital Federal</th>\n",
       "      <td>63.098</td>\n",
       "      <td>46.287</td>\n",
       "      <td>46.270</td>\n",
       "      <td>42.337</td>\n",
       "      <td>45.642</td>\n",
       "      <td>45.646</td>\n",
       "    </tr>\n",
       "    <tr>\n",
       "      <th>Bs.As. G.B.A. Zona Norte</th>\n",
       "      <td>16.557</td>\n",
       "      <td>35.788</td>\n",
       "      <td>35.666</td>\n",
       "      <td>12.238</td>\n",
       "      <td>9.568</td>\n",
       "      <td>10.049</td>\n",
       "    </tr>\n",
       "    <tr>\n",
       "      <th>Bs.As. G.B.A. Zona Sur</th>\n",
       "      <td>11.709</td>\n",
       "      <td>9.783</td>\n",
       "      <td>9.750</td>\n",
       "      <td>29.360</td>\n",
       "      <td>27.442</td>\n",
       "      <td>27.163</td>\n",
       "    </tr>\n",
       "    <tr>\n",
       "      <th>Bs.As. G.B.A. Zona Oeste</th>\n",
       "      <td>8.636</td>\n",
       "      <td>8.141</td>\n",
       "      <td>8.314</td>\n",
       "      <td>16.065</td>\n",
       "      <td>17.348</td>\n",
       "      <td>17.142</td>\n",
       "    </tr>\n",
       "  </tbody>\n",
       "</table>\n",
       "</div>"
      ],
      "text/plain": [
       "                            l2%   lat%   lon%  bathrooms%  surface_total%  \\\n",
       "l2                                                                          \n",
       "Capital Federal          63.098 46.287 46.270      42.337          45.642   \n",
       "Bs.As. G.B.A. Zona Norte 16.557 35.788 35.666      12.238           9.568   \n",
       "Bs.As. G.B.A. Zona Sur   11.709  9.783  9.750      29.360          27.442   \n",
       "Bs.As. G.B.A. Zona Oeste  8.636  8.141  8.314      16.065          17.348   \n",
       "\n",
       "                          surface_covered%  \n",
       "l2                                          \n",
       "Capital Federal                     45.646  \n",
       "Bs.As. G.B.A. Zona Norte            10.049  \n",
       "Bs.As. G.B.A. Zona Sur              27.163  \n",
       "Bs.As. G.B.A. Zona Oeste            17.142  "
      ]
     },
     "execution_count": 344,
     "metadata": {},
     "output_type": "execute_result"
    }
   ],
   "source": [
    "seraMAR(df_properati,'l2',atr_nan,'porc')"
   ]
  },
  {
   "cell_type": "markdown",
   "id": "a709df7e-da23-4046-a89c-9a940218f787",
   "metadata": {},
   "source": [
    "La primera columna nos muestra la distribucion de datos con valores asignados en cada categoria de l2, si los valores faltantes fueran MCAR (Missing Completely At Random) estos porcentajes deberian ser similares en el resto de columnas, dicho esto podemos interpretar las siguientes situaciones, en la zona norte para los atributos lat y lon hay mas valores faltantes de lo que deberia haber (aproximadamente 20% mas), en las zonas sur y oeste para los atributos bathrooms, surface_covered y surface_total hay mas falores faltantes de lo que deberia haber (aproximadamente 16% y 9% mas), estos valores de mas corresponden a valores MAR."
   ]
  },
  {
   "cell_type": "markdown",
   "id": "9f0ce179-297f-4eb4-86a7-f5661739d764",
   "metadata": {},
   "source": [
    "##### MAR l3"
   ]
  },
  {
   "cell_type": "markdown",
   "id": "7ff32d46-e523-455f-8bf6-e3d6f01a45a0",
   "metadata": {
    "tags": []
   },
   "source": [
    "En la siguiente tabla se puede comparar los porcentajes de valores faltantes por categoria l3 con respecto a los porcentajes del total de datos que hay en cada categoria de l3 (primer columna)"
   ]
  },
  {
   "cell_type": "code",
   "execution_count": 354,
   "id": "3a8d8e26-f317-4356-b2dd-ae3b61287f20",
   "metadata": {},
   "outputs": [
    {
     "data": {
      "text/html": [
       "<div>\n",
       "<style scoped>\n",
       "    .dataframe tbody tr th:only-of-type {\n",
       "        vertical-align: middle;\n",
       "    }\n",
       "\n",
       "    .dataframe tbody tr th {\n",
       "        vertical-align: top;\n",
       "    }\n",
       "\n",
       "    .dataframe thead th {\n",
       "        text-align: right;\n",
       "    }\n",
       "</style>\n",
       "<table border=\"1\" class=\"dataframe\">\n",
       "  <thead>\n",
       "    <tr style=\"text-align: right;\">\n",
       "      <th></th>\n",
       "      <th>l3%</th>\n",
       "      <th>lat%</th>\n",
       "      <th>lon%</th>\n",
       "      <th>bathrooms%</th>\n",
       "      <th>surface_total%</th>\n",
       "      <th>surface_covered%</th>\n",
       "    </tr>\n",
       "    <tr>\n",
       "      <th>l3</th>\n",
       "      <th></th>\n",
       "      <th></th>\n",
       "      <th></th>\n",
       "      <th></th>\n",
       "      <th></th>\n",
       "      <th></th>\n",
       "    </tr>\n",
       "  </thead>\n",
       "  <tbody>\n",
       "    <tr>\n",
       "      <th>Tigre</th>\n",
       "      <td>5.944</td>\n",
       "      <td>23.849</td>\n",
       "      <td>23.767</td>\n",
       "      <td>2.585</td>\n",
       "      <td>1.379</td>\n",
       "      <td>1.383</td>\n",
       "    </tr>\n",
       "    <tr>\n",
       "      <th>Palermo</th>\n",
       "      <td>8.914</td>\n",
       "      <td>11.023</td>\n",
       "      <td>11.005</td>\n",
       "      <td>3.307</td>\n",
       "      <td>3.025</td>\n",
       "      <td>3.040</td>\n",
       "    </tr>\n",
       "    <tr>\n",
       "      <th>Belgrano</th>\n",
       "      <td>4.729</td>\n",
       "      <td>6.045</td>\n",
       "      <td>6.055</td>\n",
       "      <td>1.528</td>\n",
       "      <td>4.058</td>\n",
       "      <td>4.053</td>\n",
       "    </tr>\n",
       "    <tr>\n",
       "      <th>Recoleta</th>\n",
       "      <td>4.035</td>\n",
       "      <td>5.602</td>\n",
       "      <td>5.583</td>\n",
       "      <td>1.679</td>\n",
       "      <td>1.559</td>\n",
       "      <td>1.527</td>\n",
       "    </tr>\n",
       "    <tr>\n",
       "      <th>Pilar</th>\n",
       "      <td>2.529</td>\n",
       "      <td>4.665</td>\n",
       "      <td>4.649</td>\n",
       "      <td>1.729</td>\n",
       "      <td>1.656</td>\n",
       "      <td>1.758</td>\n",
       "    </tr>\n",
       "    <tr>\n",
       "      <th>...</th>\n",
       "      <td>...</td>\n",
       "      <td>...</td>\n",
       "      <td>...</td>\n",
       "      <td>...</td>\n",
       "      <td>...</td>\n",
       "      <td>...</td>\n",
       "    </tr>\n",
       "    <tr>\n",
       "      <th>Parque Avellaneda</th>\n",
       "      <td>0.184</td>\n",
       "      <td>0.010</td>\n",
       "      <td>0.010</td>\n",
       "      <td>0.336</td>\n",
       "      <td>0.268</td>\n",
       "      <td>0.254</td>\n",
       "    </tr>\n",
       "    <tr>\n",
       "      <th>Villa Soldati</th>\n",
       "      <td>0.047</td>\n",
       "      <td>0.000</td>\n",
       "      <td>0.000</td>\n",
       "      <td>0.067</td>\n",
       "      <td>0.010</td>\n",
       "      <td>0.014</td>\n",
       "    </tr>\n",
       "    <tr>\n",
       "      <th>Villa Riachuelo</th>\n",
       "      <td>0.029</td>\n",
       "      <td>0.000</td>\n",
       "      <td>0.000</td>\n",
       "      <td>0.034</td>\n",
       "      <td>0.015</td>\n",
       "      <td>0.032</td>\n",
       "    </tr>\n",
       "    <tr>\n",
       "      <th>Parque Chas</th>\n",
       "      <td>0.198</td>\n",
       "      <td>0.000</td>\n",
       "      <td>0.000</td>\n",
       "      <td>0.118</td>\n",
       "      <td>0.156</td>\n",
       "      <td>0.157</td>\n",
       "    </tr>\n",
       "    <tr>\n",
       "      <th>Catalinas</th>\n",
       "      <td>0.003</td>\n",
       "      <td>0.000</td>\n",
       "      <td>0.000</td>\n",
       "      <td>0.000</td>\n",
       "      <td>0.000</td>\n",
       "      <td>0.000</td>\n",
       "    </tr>\n",
       "  </tbody>\n",
       "</table>\n",
       "<p>89 rows × 6 columns</p>\n",
       "</div>"
      ],
      "text/plain": [
       "                    l3%   lat%   lon%  bathrooms%  surface_total%  \\\n",
       "l3                                                                  \n",
       "Tigre             5.944 23.849 23.767       2.585           1.379   \n",
       "Palermo           8.914 11.023 11.005       3.307           3.025   \n",
       "Belgrano          4.729  6.045  6.055       1.528           4.058   \n",
       "Recoleta          4.035  5.602  5.583       1.679           1.559   \n",
       "Pilar             2.529  4.665  4.649       1.729           1.656   \n",
       "...                 ...    ...    ...         ...             ...   \n",
       "Parque Avellaneda 0.184  0.010  0.010       0.336           0.268   \n",
       "Villa Soldati     0.047  0.000  0.000       0.067           0.010   \n",
       "Villa Riachuelo   0.029  0.000  0.000       0.034           0.015   \n",
       "Parque Chas       0.198  0.000  0.000       0.118           0.156   \n",
       "Catalinas         0.003  0.000  0.000       0.000           0.000   \n",
       "\n",
       "                   surface_covered%  \n",
       "l3                                   \n",
       "Tigre                         1.383  \n",
       "Palermo                       3.040  \n",
       "Belgrano                      4.053  \n",
       "Recoleta                      1.527  \n",
       "Pilar                         1.758  \n",
       "...                             ...  \n",
       "Parque Avellaneda             0.254  \n",
       "Villa Soldati                 0.014  \n",
       "Villa Riachuelo               0.032  \n",
       "Parque Chas                   0.157  \n",
       "Catalinas                     0.000  \n",
       "\n",
       "[89 rows x 6 columns]"
      ]
     },
     "execution_count": 354,
     "metadata": {},
     "output_type": "execute_result"
    }
   ],
   "source": [
    "seraMAR(df_properati,'l3',atr_nan,'porc').sort_values(by=['lat%'],ascending=False)"
   ]
  },
  {
   "cell_type": "markdown",
   "id": "431655ba-6d20-4edf-bc11-9eaa482103b9",
   "metadata": {},
   "source": [
    "En este atributo es dificil ver los cambios en porcentajes debido que hay una cantidad de barrios muy grande (89) pero podemos ver que el barrio Tigre en el atributo lat y lon tiene un porcentaje mucho mayor (18% aproximadamente) que valores faltantes a lo correspondiente a faltantes tipo MCAR, el barrio Lomas de Zamora en el atributo bathrooms, surface_covered y surface_total tiene un porcentaje mayor (7% y 10% aproximadamente) que valores faltantes a lo correspondiente a faltantes tipo MCAR, estos faltantes adicionales son tipo MAR"
   ]
  },
  {
   "cell_type": "markdown",
   "id": "06638086-e5d6-4c48-bc01-6b0a5fa9ce02",
   "metadata": {},
   "source": [
    "##### MAR property_type"
   ]
  },
  {
   "cell_type": "markdown",
   "id": "b56a6391-590d-4d79-a516-0cc186e6ebf5",
   "metadata": {
    "tags": []
   },
   "source": [
    "En la siguiente tabla se puede comparar los porcentajes de valores faltantes por categoria property_type con respecto a los porcentajes del total de datos que hay en cada categoria de property_type (primer columna)"
   ]
  },
  {
   "cell_type": "code",
   "execution_count": 356,
   "id": "e43b144a-da61-4e95-b3d9-70aefb800060",
   "metadata": {},
   "outputs": [
    {
     "data": {
      "text/html": [
       "<div>\n",
       "<style scoped>\n",
       "    .dataframe tbody tr th:only-of-type {\n",
       "        vertical-align: middle;\n",
       "    }\n",
       "\n",
       "    .dataframe tbody tr th {\n",
       "        vertical-align: top;\n",
       "    }\n",
       "\n",
       "    .dataframe thead th {\n",
       "        text-align: right;\n",
       "    }\n",
       "</style>\n",
       "<table border=\"1\" class=\"dataframe\">\n",
       "  <thead>\n",
       "    <tr style=\"text-align: right;\">\n",
       "      <th></th>\n",
       "      <th>property_type%</th>\n",
       "      <th>lat%</th>\n",
       "      <th>lon%</th>\n",
       "      <th>bathrooms%</th>\n",
       "      <th>surface_total%</th>\n",
       "      <th>surface_covered%</th>\n",
       "    </tr>\n",
       "    <tr>\n",
       "      <th>property_type</th>\n",
       "      <th></th>\n",
       "      <th></th>\n",
       "      <th></th>\n",
       "      <th></th>\n",
       "      <th></th>\n",
       "      <th></th>\n",
       "    </tr>\n",
       "  </thead>\n",
       "  <tbody>\n",
       "    <tr>\n",
       "      <th>Departamento</th>\n",
       "      <td>73.180</td>\n",
       "      <td>78.841</td>\n",
       "      <td>78.693</td>\n",
       "      <td>45.258</td>\n",
       "      <td>66.142</td>\n",
       "      <td>64.259</td>\n",
       "    </tr>\n",
       "    <tr>\n",
       "      <th>Casa</th>\n",
       "      <td>14.674</td>\n",
       "      <td>13.552</td>\n",
       "      <td>13.646</td>\n",
       "      <td>22.444</td>\n",
       "      <td>23.954</td>\n",
       "      <td>22.509</td>\n",
       "    </tr>\n",
       "    <tr>\n",
       "      <th>PH</th>\n",
       "      <td>9.749</td>\n",
       "      <td>4.262</td>\n",
       "      <td>4.298</td>\n",
       "      <td>2.988</td>\n",
       "      <td>0.628</td>\n",
       "      <td>0.717</td>\n",
       "    </tr>\n",
       "    <tr>\n",
       "      <th>Lote</th>\n",
       "      <td>0.895</td>\n",
       "      <td>1.259</td>\n",
       "      <td>1.255</td>\n",
       "      <td>14.017</td>\n",
       "      <td>2.957</td>\n",
       "      <td>5.917</td>\n",
       "    </tr>\n",
       "    <tr>\n",
       "      <th>Oficina</th>\n",
       "      <td>0.449</td>\n",
       "      <td>0.312</td>\n",
       "      <td>0.311</td>\n",
       "      <td>1.880</td>\n",
       "      <td>1.286</td>\n",
       "      <td>1.300</td>\n",
       "    </tr>\n",
       "    <tr>\n",
       "      <th>Otro</th>\n",
       "      <td>0.255</td>\n",
       "      <td>0.332</td>\n",
       "      <td>0.351</td>\n",
       "      <td>2.149</td>\n",
       "      <td>0.750</td>\n",
       "      <td>1.217</td>\n",
       "    </tr>\n",
       "    <tr>\n",
       "      <th>Local comercial</th>\n",
       "      <td>0.222</td>\n",
       "      <td>0.272</td>\n",
       "      <td>0.281</td>\n",
       "      <td>2.871</td>\n",
       "      <td>1.466</td>\n",
       "      <td>1.402</td>\n",
       "    </tr>\n",
       "    <tr>\n",
       "      <th>Casa de campo</th>\n",
       "      <td>0.220</td>\n",
       "      <td>0.171</td>\n",
       "      <td>0.171</td>\n",
       "      <td>0.353</td>\n",
       "      <td>0.312</td>\n",
       "      <td>0.296</td>\n",
       "    </tr>\n",
       "    <tr>\n",
       "      <th>Depósito</th>\n",
       "      <td>0.181</td>\n",
       "      <td>0.796</td>\n",
       "      <td>0.793</td>\n",
       "      <td>3.844</td>\n",
       "      <td>1.252</td>\n",
       "      <td>1.194</td>\n",
       "    </tr>\n",
       "    <tr>\n",
       "      <th>Cochera</th>\n",
       "      <td>0.177</td>\n",
       "      <td>0.202</td>\n",
       "      <td>0.201</td>\n",
       "      <td>4.197</td>\n",
       "      <td>1.252</td>\n",
       "      <td>1.189</td>\n",
       "    </tr>\n",
       "  </tbody>\n",
       "</table>\n",
       "</div>"
      ],
      "text/plain": [
       "                 property_type%   lat%   lon%  bathrooms%  surface_total%  \\\n",
       "property_type                                                               \n",
       "Departamento             73.180 78.841 78.693      45.258          66.142   \n",
       "Casa                     14.674 13.552 13.646      22.444          23.954   \n",
       "PH                        9.749  4.262  4.298       2.988           0.628   \n",
       "Lote                      0.895  1.259  1.255      14.017           2.957   \n",
       "Oficina                   0.449  0.312  0.311       1.880           1.286   \n",
       "Otro                      0.255  0.332  0.351       2.149           0.750   \n",
       "Local comercial           0.222  0.272  0.281       2.871           1.466   \n",
       "Casa de campo             0.220  0.171  0.171       0.353           0.312   \n",
       "Depósito                  0.181  0.796  0.793       3.844           1.252   \n",
       "Cochera                   0.177  0.202  0.201       4.197           1.252   \n",
       "\n",
       "                 surface_covered%  \n",
       "property_type                      \n",
       "Departamento               64.259  \n",
       "Casa                       22.509  \n",
       "PH                          0.717  \n",
       "Lote                        5.917  \n",
       "Oficina                     1.300  \n",
       "Otro                        1.217  \n",
       "Local comercial             1.402  \n",
       "Casa de campo               0.296  \n",
       "Depósito                    1.194  \n",
       "Cochera                     1.189  "
      ]
     },
     "execution_count": 356,
     "metadata": {},
     "output_type": "execute_result"
    }
   ],
   "source": [
    "seraMAR(df_properati,'property_type',atr_nan,'porc')"
   ]
  },
  {
   "cell_type": "markdown",
   "id": "2cbd6c29-9977-44f0-ab27-712ab12b28c7",
   "metadata": {},
   "source": [
    "En la anterior tabla podemos ver que los atributos lat y lon tienen porcentajes muy parecidos a los porcentajes de los valores de los que se tienen datos, difieren a lo sumo en un 6% en el caso en el que shay mas datos (Departamento). PAra el resto de atributos podemos ver que las propiedades que no son depattamento, casa o PH tienen porcentajes mucho mas altos de como deberian ser si fueran faltantes tipo MCAR. En particular esta el caso de las propiedades tipo lote y el atributo bathrooms (13% de mas), supongo que estos valores faltantes se deben a que la mayoria de lotes no incluyen baño y por alguna razón los usuarios de properati al momento del registro del inmueble, en vez de registrar cero baños, no se suministran la infromación, parecido puede pasar para los lotes y el atributo surface, se sabe que esta a la venta el lote pero no su superficie."
   ]
  },
  {
   "cell_type": "markdown",
   "id": "b5fafcc0-887c-4232-92b4-7eaadd04626e",
   "metadata": {},
   "source": [
    "#### MNAR"
   ]
  },
  {
   "cell_type": "markdown",
   "id": "62792c9d-b924-4064-8b24-844ac3b30827",
   "metadata": {},
   "source": [
    "Los valores faltante MNAR (Missing Not At Random) son aquellos datos en un atributo tal que son faltantes debido a valor de ese mismo atributo. Para este punto de nuestro dataframe podriamos decir que todas los atributos en los que hemos eliminado valores por ser outliers serian valores MNAR, porque por ejemplo en el atributo precio de las casas, todos los precios mayores a 630 mil dolares fueron eliminados. \n",
    "\n",
    "Ahora, antes de hacer la eliminacion de outliers habian datos MNAR?\n",
    "\n",
    "Para resolver esta duda me remitire a los histogramas del primer proyecto, estos histogramas se hicieron sobre el dataframe original para el atributo bathrooms, habiendo eliminado los outliers y sin haber eliminado outliers, y para los atributos surface_covered y surface_total solamente luego de haber eliminado los outliers ya que la grafica no nos daba informacion si se incluian los outliers, es de notar que estoy mencionando solo los atributos que tienen valores faltantes en el dataframe original. En cualquiera de estos histogramas podemos ver que, de todo el dominio de valores que estan representados por el ancho de las barras, no hay ninguna barra que sea significativamente baja con respecto a las barras contiguas, y en el caso particular de los atributos surface_covered y surface_total que son atributos continuos si se usaran barras mas gruesas se veria un comportamiento mas estable. Estos observaciones sobre los histogramas me llevan a pensar que no hay valores MNAR en el dataframe original."
   ]
  },
  {
   "cell_type": "code",
   "execution_count": null,
   "id": "9e3073ca-641c-4273-9856-0392f8aae4f5",
   "metadata": {},
   "outputs": [],
   "source": []
  },
  {
   "cell_type": "code",
   "execution_count": null,
   "id": "7a2fdbe9-f6f4-4ea8-a2d4-e7116e10704e",
   "metadata": {},
   "outputs": [],
   "source": []
  },
  {
   "cell_type": "code",
   "execution_count": null,
   "id": "fa04508b-4aeb-48f1-abce-6a6a23ca6aa9",
   "metadata": {},
   "outputs": [],
   "source": []
  },
  {
   "cell_type": "markdown",
   "id": "5ed44584-2c37-459d-9e09-beae15cf697d",
   "metadata": {},
   "source": [
    "#### Imputación"
   ]
  },
  {
   "cell_type": "code",
   "execution_count": 146,
   "id": "d75e2cf0-fd68-4ce5-b603-57915626d16b",
   "metadata": {},
   "outputs": [],
   "source": [
    "from sklearn.experimental import enable_iterative_imputer\n",
    "from sklearn.impute import IterativeImputer\n",
    "\n",
    "\n",
    "X_test = df_nol[['lat','lon','rooms','bedrooms','bathrooms','surface_total','surface_covered']]\n",
    "# the model learns that the second feature is double the first\n",
    "#print(X_test)"
   ]
  },
  {
   "cell_type": "code",
   "execution_count": 147,
   "id": "9a8641f4-25f0-4c69-9b8f-eabc848e8efe",
   "metadata": {},
   "outputs": [
    {
     "name": "stderr",
     "output_type": "stream",
     "text": [
      "C:\\Users\\David Mora\\miniconda3\\envs\\datascience\\lib\\site-packages\\sklearn\\impute\\_iterative.py:685: ConvergenceWarning: [IterativeImputer] Early stopping criterion not reached.\n",
      "  warnings.warn(\"[IterativeImputer] Early stopping criterion not\"\n"
     ]
    },
    {
     "data": {
      "text/plain": [
       "IterativeImputer(random_state=0)"
      ]
     },
     "execution_count": 147,
     "metadata": {},
     "output_type": "execute_result"
    }
   ],
   "source": [
    "imp = IterativeImputer(max_iter=10, random_state=0)\n",
    "imp.fit(X_test)"
   ]
  },
  {
   "cell_type": "code",
   "execution_count": 148,
   "id": "6a94da5f-f8cb-489e-9a25-92de41a59e9e",
   "metadata": {},
   "outputs": [
    {
     "name": "stdout",
     "output_type": "stream",
     "text": [
      "[[-34.6058798  -58.3849491    3.95773546 ...   2.         140.\n",
      "  140.        ]\n",
      " [-34.6240556  -58.4121102    2.         ...   2.          70.\n",
      "   58.        ]\n",
      " [-34.593569   -58.427474     2.         ...   1.          45.\n",
      "   45.        ]\n",
      " ...\n",
      " [-34.57950025 -58.47071953   1.         ...   1.          50.\n",
      "   35.        ]\n",
      " [-34.60745097 -58.44257714   2.         ...   1.          38.\n",
      "   38.        ]\n",
      " [-34.61057965 -58.44654216   3.         ...   1.          75.\n",
      "   75.        ]]\n"
     ]
    }
   ],
   "source": [
    "print(imp.transform(X_test))"
   ]
  },
  {
   "cell_type": "code",
   "execution_count": 149,
   "id": "e556cea0-2587-41b6-b1fc-581f7954f90b",
   "metadata": {},
   "outputs": [],
   "source": [
    "from sklearn.impute import KNNImputer"
   ]
  },
  {
   "cell_type": "code",
   "execution_count": 150,
   "id": "450e91f2-9ef9-489b-9155-432fd72717d8",
   "metadata": {},
   "outputs": [],
   "source": [
    "imputer = KNNImputer(n_neighbors=2, weights=\"uniform\")"
   ]
  },
  {
   "cell_type": "code",
   "execution_count": 151,
   "id": "dc7c5f61-b162-4f67-9ec8-98c06d518f7a",
   "metadata": {},
   "outputs": [
    {
     "name": "stdout",
     "output_type": "stream",
     "text": [
      "842.2966604232788\n"
     ]
    }
   ],
   "source": [
    "inicio=time.time()\n",
    "knn_imputer=imputer.fit_transform(df_nol)\n",
    "fin=time.time()\n",
    "print(fin-inicio)"
   ]
  },
  {
   "cell_type": "code",
   "execution_count": null,
   "id": "8c793dfd-8143-4017-b93b-9b8158e67c42",
   "metadata": {},
   "outputs": [],
   "source": [
    "knn_imputer"
   ]
  },
  {
   "cell_type": "markdown",
   "id": "b23d8847",
   "metadata": {},
   "source": [
    "## PARTE B - Modelos Avanzados\n",
    "\n",
    "1. Elige dos de los modelos avanzados vistos Compara con el desempeño obtenido en el proyecto 01 (en el caso de regresión, considera una regresión lineal con atributos polinómicos y regularización). Entrénalos y evalúalos con sus argumentos por defecto. No te olvides de hacer un train/test split y usar Validación Cruzada.\n",
    "\n",
    "2. Optimiza sus hiperparámetros mediante Validación Cruzada y Grid Search o Random Search.\n",
    "\n",
    "3. Compara el desempeño de los nuevos modelos entre sí y con el modelo de la Parte A. ¿Cuál elegirías? Justifica.\n",
    "\n",
    "NOTA: en la Parte B, al menos un modelo debe ser optimizado por Grid Search o Random Search; el otro puede ser optimizado por búsqueda manual (es decir, puedes dejar los mejores parámetros que encontraste probando)."
   ]
  },
  {
   "cell_type": "markdown",
   "id": "f676e8d3",
   "metadata": {},
   "source": [
    "\n",
    "## PARTE C - Interpretación de modelos\n",
    "\n",
    "De acuerdo a lo que el modelo permite, responde algunas o todas las siguientes preguntas:\n",
    "\n",
    "- ¿Qué variables fueron relevantes para el modelo para hacer una predicción? ¿Cuáles no? Si usaste una regresión lineal con regularización, presta atención a los parámetros (pendientes) obtenidas. Si usaste un modelo de ensamble en árboles, además de ver la importancia de cada atributo, también elige algunos árboles al azar y observa qué atributos considera importantes. ¿En qué se diferencian esos árboles? ¿Por qué? Finalmente, responde, ¿coincide con lo que esperabas a partir de tu experiencia con este dataset?\n",
    "\n",
    "- ¿Cómo es la distribución de errores (regresión) o qué clases se confunden entre sí (clasificación)? ¿Dónde falla? ¿A qué se debe?\n",
    "\n",
    "NOTA: en la Parte C, debes responder al menos una pregunta. Obviamente, ¡cuanto más hagas, más aprenderás y mejor será tu proyecto!"
   ]
  },
  {
   "cell_type": "markdown",
   "id": "87fb015d",
   "metadata": {},
   "source": [
    "## DESAFÍO OPCIONAL\n",
    "\n",
    "Aplica una técnica de Clustering sobre el dataset. Puedes combinar con técnicas de reducción de dimensionalidad para facilitar la visualización. ¿Qué clusters encuentras? ¿A qué pueden corresponder? Te dejamos preguntas que pueden servir como disparadoras: ¿qué barrios se parecen más entre sí?¿qué tipos de propiedades se parecen más entre sí?"
   ]
  }
 ],
 "metadata": {
  "kernelspec": {
   "display_name": "Python 3",
   "language": "python",
   "name": "python3"
  },
  "language_info": {
   "codemirror_mode": {
    "name": "ipython",
    "version": 3
   },
   "file_extension": ".py",
   "mimetype": "text/x-python",
   "name": "python",
   "nbconvert_exporter": "python",
   "pygments_lexer": "ipython3",
   "version": "3.9.5"
  },
  "toc-autonumbering": true,
  "toc-showcode": false,
  "toc-showmarkdowntxt": false,
  "toc-showtags": false
 },
 "nbformat": 4,
 "nbformat_minor": 5
}
